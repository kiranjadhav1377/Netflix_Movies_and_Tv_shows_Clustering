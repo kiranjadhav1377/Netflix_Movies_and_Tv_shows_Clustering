{
  "nbformat": 4,
  "nbformat_minor": 0,
  "metadata": {
    "colab": {
      "provenance": [],
      "collapsed_sections": [
        "vncDsAP0Gaoa",
        "FJNUwmbgGyua",
        "yQaldy8SH6Dl",
        "mDgbUHAGgjLW",
        "O_i_v8NEhb9l",
        "r2jJGEOYphqO",
        "GMQiZwjn3iu7",
        "WVIkgGqN3qsr",
        "XkPnILGE3zoT",
        "Hlsf0x5436Go",
        "mT9DMSJo4nBL",
        "OeJFEK0N496M",
        "9ExmJH0g5HBk",
        "cJNqERVU536h",
        "T0VqWOYE6DLQ",
        "qBMux9mC6MCf",
        "TfvqoZmBfxKf",
        "gIfDvo9L0UH2"
      ],
      "cell_execution_strategy": "setup",
      "include_colab_link": true
    },
    "kernelspec": {
      "name": "python3",
      "display_name": "Python 3"
    },
    "language_info": {
      "name": "python"
    }
  },
  "cells": [
    {
      "cell_type": "markdown",
      "metadata": {
        "id": "view-in-github",
        "colab_type": "text"
      },
      "source": [
        "<a href=\"https://colab.research.google.com/github/kiranjadhav1377/Netflix_Movies_and_Tv_shows_Clustering/blob/main/RAW_Netflix_project_4.ipynb\" target=\"_parent\"><img src=\"https://colab.research.google.com/assets/colab-badge.svg\" alt=\"Open In Colab\"/></a>"
      ]
    },
    {
      "cell_type": "markdown",
      "source": [
        "# **Project Name**    -**Netflix Movies and Tv shows Clustering**\n",
        "\n"
      ],
      "metadata": {
        "id": "vncDsAP0Gaoa"
      }
    },
    {
      "cell_type": "markdown",
      "source": [
        "**Project Type -** Unsupervised\n",
        "\n",
        "**Contribution -** Individual\n",
        "\n",
        "**Team Member -** Kiran S. Jadhav\n",
        "\n",
        "![photo-1574375927938-d5a98e8ffe85.avif](data:image/avif;base64,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)"
      ],
      "metadata": {
        "id": "jb2hhHJmdAgT"
      }
    },
    {
      "cell_type": "markdown",
      "source": [
        "# **Project Summary -**"
      ],
      "metadata": {
        "id": "FJNUwmbgGyua"
      }
    },
    {
      "cell_type": "markdown",
      "source": [
        "This project is like a Netflix makeover! We're delving into Netflix's massive collection of movies and TV shows, which is like a treasure trove of entertainment. Our goal? To organize them into neat groups that just make Netflix more awesome for you and keep you coming back for more.\n",
        "\n",
        "We start with a bunch of informationlike 7,787 records worth each with details about who's in the show, where it's from, its type (comedy, action, etc.), the director, rating, and a short description. We make sure everything is complete and no details are missing.\n",
        "\n",
        "Now, here comes the techy part: we use something called TFIDF to turn all this info into computer-friendly numbers. It's like giving each show a special code. And to keep things simple, we use PCA to crunch down these numbers.\n",
        "\n",
        "Our next mission is to group similar shows together, creating these awesome categories. To figure out how many categories we need, we try different methods, like looking at graphs and scores. We have two cool ways of making these groups: one is called K-Means, and the other is like making a family tree of shows, called Agglomerative Hierarchical.\n",
        "\n",
        "After all that, we create a special chart showing how much one show is like another. It's like making a map of show similarities. This helps us build a super-smart system that suggests new things you might love based on what you've enjoyed before.\n",
        "\n",
        "In the end, this project is all about giving Netflix a glow-up. We're organizing its shows and movies into neat groups and suggesting awesome new things for you based on what you already enjoy. It's like making Netflix your personalized entertainment paradise."
      ],
      "metadata": {
        "id": "eKXI2KeEGXkn"
      }
    },
    {
      "cell_type": "markdown",
      "source": [
        "# **GitHub Link -**"
      ],
      "metadata": {
        "id": "w6K7xa23Elo4"
      }
    },
    {
      "cell_type": "markdown",
      "source": [
        "https://github.com/kiranjadhav1377/Netflix_Movies_and_Tv_shows_Clustering"
      ],
      "metadata": {
        "id": "gW8sKQh7i0JX"
      }
    },
    {
      "cell_type": "markdown",
      "source": [
        "# **Problem Statement**\n"
      ],
      "metadata": {
        "id": "yQaldy8SH6Dl"
      }
    },
    {
      "cell_type": "markdown",
      "source": [
        "This dataset consists of tv shows and movies available on Netflix as of 2019. The dataset is collected from Flixable which is a third-party Netflix search engine.\n",
        "\n",
        "In 2018, they released an interesting report which shows that the number of TV shows on Netflix has nearly tripled since 2010. The streaming service’s number of movies has decreased by more than 2,000 titles since 2010, while its number of TV shows has nearly tripled. It will be interesting to explore what all other insights can be obtained from the same dataset.\n",
        "\n",
        "Integrating this dataset with other external datasets such as IMDB ratings, rotten tomatoes can also provide many interesting findings.\n",
        "My Task is to make a Model that can cluster similar type of content together."
      ],
      "metadata": {
        "id": "DpeJGUA3kjGy"
      }
    },
    {
      "cell_type": "markdown",
      "source": [
        "# **General Guidelines** : -  "
      ],
      "metadata": {
        "id": "mDgbUHAGgjLW"
      }
    },
    {
      "cell_type": "markdown",
      "source": [
        "1.   Well-structured, formatted, and commented code is required.\n",
        "2.   Exception Handling, Production Grade Code & Deployment Ready Code will be a plus. Those students will be awarded some additional credits.\n",
        "     \n",
        "     The additional credits will have advantages over other students during Star Student selection.\n",
        "       \n",
        "             [ Note: - Deployment Ready Code is defined as, the whole .ipynb notebook should be executable in one go\n",
        "                       without a single error logged. ]\n",
        "\n",
        "3.   Each and every logic should have proper comments.\n",
        "4. You may add as many number of charts you want. Make Sure for each and every chart the following format should be answered.\n",
        "        \n",
        "\n",
        "```\n",
        "# Chart visualization code\n",
        "```\n",
        "            \n",
        "\n",
        "*   Why did you pick the specific chart?\n",
        "*   What is/are the insight(s) found from the chart?\n",
        "* Will the gained insights help creating a positive business impact?\n",
        "Are there any insights that lead to negative growth? Justify with specific reason.\n",
        "\n",
        "5. You have to create at least 15 logical & meaningful charts having important insights.\n",
        "\n",
        "\n",
        "[ Hints : - Do the Vizualization in  a structured way while following \"UBM\" Rule.\n",
        "\n",
        "U - Univariate Analysis,\n",
        "\n",
        "B - Bivariate Analysis (Numerical - Categorical, Numerical - Numerical, Categorical - Categorical)\n",
        "\n",
        "M - Multivariate Analysis\n",
        " ]\n",
        "\n",
        "\n",
        "\n",
        "\n",
        "\n",
        "6. You may add more ml algorithms for model creation. Make sure for each and every algorithm, the following format should be answered.\n",
        "\n",
        "\n",
        "*   Explain the ML Model used and it's performance using Evaluation metric Score Chart.\n",
        "\n",
        "\n",
        "*   Cross- Validation & Hyperparameter Tuning\n",
        "\n",
        "*   Have you seen any improvement? Note down the improvement with updates Evaluation metric Score Chart.\n",
        "\n",
        "*   Explain each evaluation metric's indication towards business and the business impact pf the ML model used.\n",
        "\n",
        "\n",
        "\n",
        "\n",
        "\n",
        "\n",
        "\n",
        "\n",
        "\n",
        "\n",
        "\n",
        "\n",
        "\n",
        "\n",
        "\n",
        "\n",
        "\n",
        "\n"
      ],
      "metadata": {
        "id": "ZrxVaUj-hHfC"
      }
    },
    {
      "cell_type": "markdown",
      "source": [
        "# ***Let's Begin !***"
      ],
      "metadata": {
        "id": "O_i_v8NEhb9l"
      }
    },
    {
      "cell_type": "markdown",
      "source": [
        "## ***1. Know Your Data***"
      ],
      "metadata": {
        "id": "HhfV-JJviCcP"
      }
    },
    {
      "cell_type": "markdown",
      "source": [
        "### Import Libraries"
      ],
      "metadata": {
        "id": "Y3lxredqlCYt"
      }
    },
    {
      "cell_type": "code",
      "source": [
        "# Import Libraries\n",
        "import numpy as np\n",
        "from numpy import math\n",
        "import pandas as pd\n",
        "import seaborn as sns\n",
        "import matplotlib.pyplot as plt\n",
        "from sklearn.model_selection import train_test_split, KFold\n",
        "from nltk.stem.snowball import SnowballStemmer\n",
        "from google.colab import drive\n",
        "import string\n",
        "import nltk\n",
        "from nltk.corpus import stopwords\n",
        "from sklearn.feature_extraction.text import CountVectorizer\n",
        "from sklearn.feature_extraction.text import TfidfVectorizer\n",
        "from sklearn.cluster import KMeans,AgglomerativeClustering,DBSCAN\n",
        "from yellowbrick.cluster import KElbowVisualizer\n",
        "from sklearn.decomposition import LatentDirichletAllocation\n",
        "from sklearn.decomposition import PCA\n",
        "import scipy.cluster.hierarchy as sch\n",
        "from sklearn import metrics\n",
        "from sklearn.model_selection import GridSearchCV\n",
        "from sklearn.metrics import silhouette_samples,silhouette_score\n",
        "\n",
        "import warnings\n",
        "warnings.filterwarnings('ignore')"
      ],
      "metadata": {
        "id": "M8Vqi-pPk-HR"
      },
      "execution_count": null,
      "outputs": []
    },
    {
      "cell_type": "markdown",
      "source": [
        "### Dataset Loading"
      ],
      "metadata": {
        "id": "3RnN4peoiCZX"
      }
    },
    {
      "cell_type": "code",
      "source": [
        "# Load Dataset\n",
        "from google.colab import drive\n",
        "drive.mount('/content/drive')"
      ],
      "metadata": {
        "id": "4CkvbW_SlZ_R",
        "colab": {
          "base_uri": "https://localhost:8080/"
        },
        "outputId": "025195ef-5bef-487d-acea-5e02145f0258"
      },
      "execution_count": null,
      "outputs": [
        {
          "output_type": "stream",
          "name": "stdout",
          "text": [
            "Drive already mounted at /content/drive; to attempt to forcibly remount, call drive.mount(\"/content/drive\", force_remount=True).\n"
          ]
        }
      ]
    },
    {
      "cell_type": "code",
      "source": [
        "file_path = '/content/drive/My Drive/Colab Notebooks/my projects/NETFLIX/NETFLIX MOVIES AND TV SHOWS CLUSTERING.csv'\n",
        "df = pd.read_csv(file_path)\n"
      ],
      "metadata": {
        "id": "BYOBEI0QKnUV"
      },
      "execution_count": null,
      "outputs": []
    },
    {
      "cell_type": "markdown",
      "source": [
        "### Dataset First View"
      ],
      "metadata": {
        "id": "x71ZqKXriCWQ"
      }
    },
    {
      "cell_type": "code",
      "source": [
        "# Dataset First Look\n",
        "df.head()"
      ],
      "metadata": {
        "id": "LWNFOSvLl09H",
        "colab": {
          "base_uri": "https://localhost:8080/",
          "height": 310
        },
        "outputId": "61b3abba-a1e2-4ee8-8407-a27e00e831d7"
      },
      "execution_count": null,
      "outputs": [
        {
          "output_type": "execute_result",
          "data": {
            "text/plain": [
              "  show_id     type  title           director  \\\n",
              "0      s1  TV Show     3%                NaN   \n",
              "1      s2    Movie   7:19  Jorge Michel Grau   \n",
              "2      s3    Movie  23:59       Gilbert Chan   \n",
              "3      s4    Movie      9        Shane Acker   \n",
              "4      s5    Movie     21     Robert Luketic   \n",
              "\n",
              "                                                cast        country  \\\n",
              "0  João Miguel, Bianca Comparato, Michel Gomes, R...         Brazil   \n",
              "1  Demián Bichir, Héctor Bonilla, Oscar Serrano, ...         Mexico   \n",
              "2  Tedd Chan, Stella Chung, Henley Hii, Lawrence ...      Singapore   \n",
              "3  Elijah Wood, John C. Reilly, Jennifer Connelly...  United States   \n",
              "4  Jim Sturgess, Kevin Spacey, Kate Bosworth, Aar...  United States   \n",
              "\n",
              "          date_added  release_year rating   duration  \\\n",
              "0    August 14, 2020          2020  TV-MA  4 Seasons   \n",
              "1  December 23, 2016          2016  TV-MA     93 min   \n",
              "2  December 20, 2018          2011      R     78 min   \n",
              "3  November 16, 2017          2009  PG-13     80 min   \n",
              "4    January 1, 2020          2008  PG-13    123 min   \n",
              "\n",
              "                                           listed_in  \\\n",
              "0  International TV Shows, TV Dramas, TV Sci-Fi &...   \n",
              "1                       Dramas, International Movies   \n",
              "2                Horror Movies, International Movies   \n",
              "3  Action & Adventure, Independent Movies, Sci-Fi...   \n",
              "4                                             Dramas   \n",
              "\n",
              "                                         description  \n",
              "0  In a future where the elite inhabit an island ...  \n",
              "1  After a devastating earthquake hits Mexico Cit...  \n",
              "2  When an army recruit is found dead, his fellow...  \n",
              "3  In a postapocalyptic world, rag-doll robots hi...  \n",
              "4  A brilliant group of students become card-coun...  "
            ],
            "text/html": [
              "\n",
              "  <div id=\"df-66cac904-4af5-41c4-9a90-4391ce6645b0\" class=\"colab-df-container\">\n",
              "    <div>\n",
              "<style scoped>\n",
              "    .dataframe tbody tr th:only-of-type {\n",
              "        vertical-align: middle;\n",
              "    }\n",
              "\n",
              "    .dataframe tbody tr th {\n",
              "        vertical-align: top;\n",
              "    }\n",
              "\n",
              "    .dataframe thead th {\n",
              "        text-align: right;\n",
              "    }\n",
              "</style>\n",
              "<table border=\"1\" class=\"dataframe\">\n",
              "  <thead>\n",
              "    <tr style=\"text-align: right;\">\n",
              "      <th></th>\n",
              "      <th>show_id</th>\n",
              "      <th>type</th>\n",
              "      <th>title</th>\n",
              "      <th>director</th>\n",
              "      <th>cast</th>\n",
              "      <th>country</th>\n",
              "      <th>date_added</th>\n",
              "      <th>release_year</th>\n",
              "      <th>rating</th>\n",
              "      <th>duration</th>\n",
              "      <th>listed_in</th>\n",
              "      <th>description</th>\n",
              "    </tr>\n",
              "  </thead>\n",
              "  <tbody>\n",
              "    <tr>\n",
              "      <th>0</th>\n",
              "      <td>s1</td>\n",
              "      <td>TV Show</td>\n",
              "      <td>3%</td>\n",
              "      <td>NaN</td>\n",
              "      <td>João Miguel, Bianca Comparato, Michel Gomes, R...</td>\n",
              "      <td>Brazil</td>\n",
              "      <td>August 14, 2020</td>\n",
              "      <td>2020</td>\n",
              "      <td>TV-MA</td>\n",
              "      <td>4 Seasons</td>\n",
              "      <td>International TV Shows, TV Dramas, TV Sci-Fi &amp;...</td>\n",
              "      <td>In a future where the elite inhabit an island ...</td>\n",
              "    </tr>\n",
              "    <tr>\n",
              "      <th>1</th>\n",
              "      <td>s2</td>\n",
              "      <td>Movie</td>\n",
              "      <td>7:19</td>\n",
              "      <td>Jorge Michel Grau</td>\n",
              "      <td>Demián Bichir, Héctor Bonilla, Oscar Serrano, ...</td>\n",
              "      <td>Mexico</td>\n",
              "      <td>December 23, 2016</td>\n",
              "      <td>2016</td>\n",
              "      <td>TV-MA</td>\n",
              "      <td>93 min</td>\n",
              "      <td>Dramas, International Movies</td>\n",
              "      <td>After a devastating earthquake hits Mexico Cit...</td>\n",
              "    </tr>\n",
              "    <tr>\n",
              "      <th>2</th>\n",
              "      <td>s3</td>\n",
              "      <td>Movie</td>\n",
              "      <td>23:59</td>\n",
              "      <td>Gilbert Chan</td>\n",
              "      <td>Tedd Chan, Stella Chung, Henley Hii, Lawrence ...</td>\n",
              "      <td>Singapore</td>\n",
              "      <td>December 20, 2018</td>\n",
              "      <td>2011</td>\n",
              "      <td>R</td>\n",
              "      <td>78 min</td>\n",
              "      <td>Horror Movies, International Movies</td>\n",
              "      <td>When an army recruit is found dead, his fellow...</td>\n",
              "    </tr>\n",
              "    <tr>\n",
              "      <th>3</th>\n",
              "      <td>s4</td>\n",
              "      <td>Movie</td>\n",
              "      <td>9</td>\n",
              "      <td>Shane Acker</td>\n",
              "      <td>Elijah Wood, John C. Reilly, Jennifer Connelly...</td>\n",
              "      <td>United States</td>\n",
              "      <td>November 16, 2017</td>\n",
              "      <td>2009</td>\n",
              "      <td>PG-13</td>\n",
              "      <td>80 min</td>\n",
              "      <td>Action &amp; Adventure, Independent Movies, Sci-Fi...</td>\n",
              "      <td>In a postapocalyptic world, rag-doll robots hi...</td>\n",
              "    </tr>\n",
              "    <tr>\n",
              "      <th>4</th>\n",
              "      <td>s5</td>\n",
              "      <td>Movie</td>\n",
              "      <td>21</td>\n",
              "      <td>Robert Luketic</td>\n",
              "      <td>Jim Sturgess, Kevin Spacey, Kate Bosworth, Aar...</td>\n",
              "      <td>United States</td>\n",
              "      <td>January 1, 2020</td>\n",
              "      <td>2008</td>\n",
              "      <td>PG-13</td>\n",
              "      <td>123 min</td>\n",
              "      <td>Dramas</td>\n",
              "      <td>A brilliant group of students become card-coun...</td>\n",
              "    </tr>\n",
              "  </tbody>\n",
              "</table>\n",
              "</div>\n",
              "    <div class=\"colab-df-buttons\">\n",
              "\n",
              "  <div class=\"colab-df-container\">\n",
              "    <button class=\"colab-df-convert\" onclick=\"convertToInteractive('df-66cac904-4af5-41c4-9a90-4391ce6645b0')\"\n",
              "            title=\"Convert this dataframe to an interactive table.\"\n",
              "            style=\"display:none;\">\n",
              "\n",
              "  <svg xmlns=\"http://www.w3.org/2000/svg\" height=\"24px\" viewBox=\"0 -960 960 960\">\n",
              "    <path d=\"M120-120v-720h720v720H120Zm60-500h600v-160H180v160Zm220 220h160v-160H400v160Zm0 220h160v-160H400v160ZM180-400h160v-160H180v160Zm440 0h160v-160H620v160ZM180-180h160v-160H180v160Zm440 0h160v-160H620v160Z\"/>\n",
              "  </svg>\n",
              "    </button>\n",
              "\n",
              "  <style>\n",
              "    .colab-df-container {\n",
              "      display:flex;\n",
              "      gap: 12px;\n",
              "    }\n",
              "\n",
              "    .colab-df-convert {\n",
              "      background-color: #E8F0FE;\n",
              "      border: none;\n",
              "      border-radius: 50%;\n",
              "      cursor: pointer;\n",
              "      display: none;\n",
              "      fill: #1967D2;\n",
              "      height: 32px;\n",
              "      padding: 0 0 0 0;\n",
              "      width: 32px;\n",
              "    }\n",
              "\n",
              "    .colab-df-convert:hover {\n",
              "      background-color: #E2EBFA;\n",
              "      box-shadow: 0px 1px 2px rgba(60, 64, 67, 0.3), 0px 1px 3px 1px rgba(60, 64, 67, 0.15);\n",
              "      fill: #174EA6;\n",
              "    }\n",
              "\n",
              "    .colab-df-buttons div {\n",
              "      margin-bottom: 4px;\n",
              "    }\n",
              "\n",
              "    [theme=dark] .colab-df-convert {\n",
              "      background-color: #3B4455;\n",
              "      fill: #D2E3FC;\n",
              "    }\n",
              "\n",
              "    [theme=dark] .colab-df-convert:hover {\n",
              "      background-color: #434B5C;\n",
              "      box-shadow: 0px 1px 3px 1px rgba(0, 0, 0, 0.15);\n",
              "      filter: drop-shadow(0px 1px 2px rgba(0, 0, 0, 0.3));\n",
              "      fill: #FFFFFF;\n",
              "    }\n",
              "  </style>\n",
              "\n",
              "    <script>\n",
              "      const buttonEl =\n",
              "        document.querySelector('#df-66cac904-4af5-41c4-9a90-4391ce6645b0 button.colab-df-convert');\n",
              "      buttonEl.style.display =\n",
              "        google.colab.kernel.accessAllowed ? 'block' : 'none';\n",
              "\n",
              "      async function convertToInteractive(key) {\n",
              "        const element = document.querySelector('#df-66cac904-4af5-41c4-9a90-4391ce6645b0');\n",
              "        const dataTable =\n",
              "          await google.colab.kernel.invokeFunction('convertToInteractive',\n",
              "                                                    [key], {});\n",
              "        if (!dataTable) return;\n",
              "\n",
              "        const docLinkHtml = 'Like what you see? Visit the ' +\n",
              "          '<a target=\"_blank\" href=https://colab.research.google.com/notebooks/data_table.ipynb>data table notebook</a>'\n",
              "          + ' to learn more about interactive tables.';\n",
              "        element.innerHTML = '';\n",
              "        dataTable['output_type'] = 'display_data';\n",
              "        await google.colab.output.renderOutput(dataTable, element);\n",
              "        const docLink = document.createElement('div');\n",
              "        docLink.innerHTML = docLinkHtml;\n",
              "        element.appendChild(docLink);\n",
              "      }\n",
              "    </script>\n",
              "  </div>\n",
              "\n",
              "\n",
              "<div id=\"df-bc21cbb0-42d0-4740-8e85-3a7eedca700f\">\n",
              "  <button class=\"colab-df-quickchart\" onclick=\"quickchart('df-bc21cbb0-42d0-4740-8e85-3a7eedca700f')\"\n",
              "            title=\"Suggest charts\"\n",
              "            style=\"display:none;\">\n",
              "\n",
              "<svg xmlns=\"http://www.w3.org/2000/svg\" height=\"24px\"viewBox=\"0 0 24 24\"\n",
              "     width=\"24px\">\n",
              "    <g>\n",
              "        <path d=\"M19 3H5c-1.1 0-2 .9-2 2v14c0 1.1.9 2 2 2h14c1.1 0 2-.9 2-2V5c0-1.1-.9-2-2-2zM9 17H7v-7h2v7zm4 0h-2V7h2v10zm4 0h-2v-4h2v4z\"/>\n",
              "    </g>\n",
              "</svg>\n",
              "  </button>\n",
              "\n",
              "<style>\n",
              "  .colab-df-quickchart {\n",
              "      --bg-color: #E8F0FE;\n",
              "      --fill-color: #1967D2;\n",
              "      --hover-bg-color: #E2EBFA;\n",
              "      --hover-fill-color: #174EA6;\n",
              "      --disabled-fill-color: #AAA;\n",
              "      --disabled-bg-color: #DDD;\n",
              "  }\n",
              "\n",
              "  [theme=dark] .colab-df-quickchart {\n",
              "      --bg-color: #3B4455;\n",
              "      --fill-color: #D2E3FC;\n",
              "      --hover-bg-color: #434B5C;\n",
              "      --hover-fill-color: #FFFFFF;\n",
              "      --disabled-bg-color: #3B4455;\n",
              "      --disabled-fill-color: #666;\n",
              "  }\n",
              "\n",
              "  .colab-df-quickchart {\n",
              "    background-color: var(--bg-color);\n",
              "    border: none;\n",
              "    border-radius: 50%;\n",
              "    cursor: pointer;\n",
              "    display: none;\n",
              "    fill: var(--fill-color);\n",
              "    height: 32px;\n",
              "    padding: 0;\n",
              "    width: 32px;\n",
              "  }\n",
              "\n",
              "  .colab-df-quickchart:hover {\n",
              "    background-color: var(--hover-bg-color);\n",
              "    box-shadow: 0 1px 2px rgba(60, 64, 67, 0.3), 0 1px 3px 1px rgba(60, 64, 67, 0.15);\n",
              "    fill: var(--button-hover-fill-color);\n",
              "  }\n",
              "\n",
              "  .colab-df-quickchart-complete:disabled,\n",
              "  .colab-df-quickchart-complete:disabled:hover {\n",
              "    background-color: var(--disabled-bg-color);\n",
              "    fill: var(--disabled-fill-color);\n",
              "    box-shadow: none;\n",
              "  }\n",
              "\n",
              "  .colab-df-spinner {\n",
              "    border: 2px solid var(--fill-color);\n",
              "    border-color: transparent;\n",
              "    border-bottom-color: var(--fill-color);\n",
              "    animation:\n",
              "      spin 1s steps(1) infinite;\n",
              "  }\n",
              "\n",
              "  @keyframes spin {\n",
              "    0% {\n",
              "      border-color: transparent;\n",
              "      border-bottom-color: var(--fill-color);\n",
              "      border-left-color: var(--fill-color);\n",
              "    }\n",
              "    20% {\n",
              "      border-color: transparent;\n",
              "      border-left-color: var(--fill-color);\n",
              "      border-top-color: var(--fill-color);\n",
              "    }\n",
              "    30% {\n",
              "      border-color: transparent;\n",
              "      border-left-color: var(--fill-color);\n",
              "      border-top-color: var(--fill-color);\n",
              "      border-right-color: var(--fill-color);\n",
              "    }\n",
              "    40% {\n",
              "      border-color: transparent;\n",
              "      border-right-color: var(--fill-color);\n",
              "      border-top-color: var(--fill-color);\n",
              "    }\n",
              "    60% {\n",
              "      border-color: transparent;\n",
              "      border-right-color: var(--fill-color);\n",
              "    }\n",
              "    80% {\n",
              "      border-color: transparent;\n",
              "      border-right-color: var(--fill-color);\n",
              "      border-bottom-color: var(--fill-color);\n",
              "    }\n",
              "    90% {\n",
              "      border-color: transparent;\n",
              "      border-bottom-color: var(--fill-color);\n",
              "    }\n",
              "  }\n",
              "</style>\n",
              "\n",
              "  <script>\n",
              "    async function quickchart(key) {\n",
              "      const quickchartButtonEl =\n",
              "        document.querySelector('#' + key + ' button');\n",
              "      quickchartButtonEl.disabled = true;  // To prevent multiple clicks.\n",
              "      quickchartButtonEl.classList.add('colab-df-spinner');\n",
              "      try {\n",
              "        const charts = await google.colab.kernel.invokeFunction(\n",
              "            'suggestCharts', [key], {});\n",
              "      } catch (error) {\n",
              "        console.error('Error during call to suggestCharts:', error);\n",
              "      }\n",
              "      quickchartButtonEl.classList.remove('colab-df-spinner');\n",
              "      quickchartButtonEl.classList.add('colab-df-quickchart-complete');\n",
              "    }\n",
              "    (() => {\n",
              "      let quickchartButtonEl =\n",
              "        document.querySelector('#df-bc21cbb0-42d0-4740-8e85-3a7eedca700f button');\n",
              "      quickchartButtonEl.style.display =\n",
              "        google.colab.kernel.accessAllowed ? 'block' : 'none';\n",
              "    })();\n",
              "  </script>\n",
              "</div>\n",
              "\n",
              "    </div>\n",
              "  </div>\n"
            ]
          },
          "metadata": {},
          "execution_count": 76
        }
      ]
    },
    {
      "cell_type": "markdown",
      "source": [
        "### Dataset Rows & Columns count"
      ],
      "metadata": {
        "id": "7hBIi_osiCS2"
      }
    },
    {
      "cell_type": "code",
      "source": [
        "# Dataset Rows & Columns count\n",
        "print(df.columns)\n",
        "rows = df.shape[0]\n",
        "columns = df.shape[1]\n",
        "print (f'The rows are {rows} and The  columns sre {columns} ')"
      ],
      "metadata": {
        "id": "Kllu7SJgmLij",
        "colab": {
          "base_uri": "https://localhost:8080/"
        },
        "outputId": "3441695a-de8b-4c38-8cea-85b904baac84"
      },
      "execution_count": null,
      "outputs": [
        {
          "output_type": "stream",
          "name": "stdout",
          "text": [
            "Index(['show_id', 'type', 'title', 'director', 'cast', 'country', 'date_added',\n",
            "       'release_year', 'rating', 'duration', 'listed_in', 'description'],\n",
            "      dtype='object')\n",
            "The rows are 7787 and The  columns sre 12 \n"
          ]
        }
      ]
    },
    {
      "cell_type": "markdown",
      "source": [
        "### Dataset Information"
      ],
      "metadata": {
        "id": "JlHwYmJAmNHm"
      }
    },
    {
      "cell_type": "code",
      "source": [
        "# Dataset Info\n",
        "df.info()"
      ],
      "metadata": {
        "id": "e9hRXRi6meOf",
        "colab": {
          "base_uri": "https://localhost:8080/"
        },
        "outputId": "4c52d1f4-6f17-4958-cee3-186eca5acf32"
      },
      "execution_count": null,
      "outputs": [
        {
          "output_type": "stream",
          "name": "stdout",
          "text": [
            "<class 'pandas.core.frame.DataFrame'>\n",
            "RangeIndex: 7787 entries, 0 to 7786\n",
            "Data columns (total 12 columns):\n",
            " #   Column        Non-Null Count  Dtype \n",
            "---  ------        --------------  ----- \n",
            " 0   show_id       7787 non-null   object\n",
            " 1   type          7787 non-null   object\n",
            " 2   title         7787 non-null   object\n",
            " 3   director      5398 non-null   object\n",
            " 4   cast          7069 non-null   object\n",
            " 5   country       7280 non-null   object\n",
            " 6   date_added    7777 non-null   object\n",
            " 7   release_year  7787 non-null   int64 \n",
            " 8   rating        7780 non-null   object\n",
            " 9   duration      7787 non-null   object\n",
            " 10  listed_in     7787 non-null   object\n",
            " 11  description   7787 non-null   object\n",
            "dtypes: int64(1), object(11)\n",
            "memory usage: 730.2+ KB\n"
          ]
        }
      ]
    },
    {
      "cell_type": "markdown",
      "source": [
        "#### Duplicate Values"
      ],
      "metadata": {
        "id": "35m5QtbWiB9F"
      }
    },
    {
      "cell_type": "code",
      "source": [
        "# Dataset Duplicate Value Count\n",
        "print ( f'In this Dataset there are {len(df[df.duplicated()])} duplicate values')"
      ],
      "metadata": {
        "id": "1sLdpKYkmox0",
        "colab": {
          "base_uri": "https://localhost:8080/"
        },
        "outputId": "893f1a35-b918-4f7a-9774-ee8a588cecd3"
      },
      "execution_count": null,
      "outputs": [
        {
          "output_type": "stream",
          "name": "stdout",
          "text": [
            "In this Dataset there are 0 duplicate values\n"
          ]
        }
      ]
    },
    {
      "cell_type": "markdown",
      "source": [
        "#### Missing Values/Null Values"
      ],
      "metadata": {
        "id": "PoPl-ycgm1ru"
      }
    },
    {
      "cell_type": "code",
      "source": [
        "# Missing Values/Null Values Count\n",
        "Null_count = df.isnull().sum()\n",
        "Null_count"
      ],
      "metadata": {
        "id": "GgHWkxvamxVg",
        "colab": {
          "base_uri": "https://localhost:8080/"
        },
        "outputId": "2f21f808-2133-4da1-9a1c-f56045d3a1e5"
      },
      "execution_count": null,
      "outputs": [
        {
          "output_type": "execute_result",
          "data": {
            "text/plain": [
              "show_id            0\n",
              "type               0\n",
              "title              0\n",
              "director        2389\n",
              "cast             718\n",
              "country          507\n",
              "date_added        10\n",
              "release_year       0\n",
              "rating             7\n",
              "duration           0\n",
              "listed_in          0\n",
              "description        0\n",
              "dtype: int64"
            ]
          },
          "metadata": {},
          "execution_count": 80
        }
      ]
    },
    {
      "cell_type": "code",
      "source": [
        "# Visualizing the missing values\n",
        "df.isnull().sum().plot.bar()\n",
        "plt.show()"
      ],
      "metadata": {
        "id": "3q5wnI3om9sJ",
        "colab": {
          "base_uri": "https://localhost:8080/",
          "height": 670
        },
        "outputId": "c21c60de-c6f7-43b8-da41-12b458143e03"
      },
      "execution_count": null,
      "outputs": [
        {
          "output_type": "display_data",
          "data": {
            "text/plain": [
              "<Figure size 1200x700 with 1 Axes>"
            ],
            "image/png": "[encoded data removed]"
          },
          "metadata": {}
        }
      ]
    },
    {
      "cell_type": "markdown",
      "source": [
        "### What did you know about your dataset?"
      ],
      "metadata": {
        "id": "H0kj-8xxnORC"
      }
    },
    {
      "cell_type": "markdown",
      "source": [
        "This huge list of 7,787 Netflix shows and movies, each with its own special ID, like \"s1\" or \"s2.\" We know if it's a TV show or a movie.\n",
        "\n",
        "For each show, we have details like its name (\"Rich in Love\"), who directed it, and who's in it. There are shows from 681 different countries, and we know when they were added to Netflix, their release year, and how they're rated.\n",
        "\n",
        "These shows come in 419 different types, like foreign TV shows, romantic comedies, and thrillers. We also know there are 216 different descriptions and how long each season lasts in minutes.\n",
        "\n",
        "Good news: there are no copies of the same show in our list. But, there are some missing details in some shows:\n",
        "\n",
        "We don't know who directed 2,389 shows. For 718 shows, we don't know who the actors are. The country where 507 shows are from is a mystery. We're missing the date for 10 shows. And, we don't have ratings for 7 shows. We're going to use all this info to figure out what people really like on Netflix."
      ],
      "metadata": {
        "id": "DG3zL-98IMgq"
      }
    },
    {
      "cell_type": "markdown",
      "source": [
        "## ***2. Understanding Your Variables***"
      ],
      "metadata": {
        "id": "nA9Y7ga8ng1Z"
      }
    },
    {
      "cell_type": "code",
      "source": [
        "# Dataset Columns\n",
        "\n",
        "print(f'there are { df.shape[1]} columns and they are as follow {df.columns}')"
      ],
      "metadata": {
        "id": "j7xfkqrt5Ag5",
        "colab": {
          "base_uri": "https://localhost:8080/"
        },
        "outputId": "04d7abc0-d92b-469f-9751-9bab328b94a3"
      },
      "execution_count": null,
      "outputs": [
        {
          "output_type": "stream",
          "name": "stdout",
          "text": [
            "there are 12 columns and they are as follow Index(['show_id', 'type', 'title', 'director', 'cast', 'country', 'date_added',\n",
            "       'release_year', 'rating', 'duration', 'listed_in', 'description'],\n",
            "      dtype='object')\n"
          ]
        }
      ]
    },
    {
      "cell_type": "code",
      "source": [
        "# Dataset Describe\n",
        "df.describe(include='all')"
      ],
      "metadata": {
        "id": "DnOaZdaE5Q5t",
        "colab": {
          "base_uri": "https://localhost:8080/",
          "height": 411
        },
        "outputId": "7b1eadee-4b06-42b9-ab32-0ab93e63c015"
      },
      "execution_count": null,
      "outputs": [
        {
          "output_type": "execute_result",
          "data": {
            "text/plain": [
              "       show_id   type title                director                cast  \\\n",
              "count     7787   7787  7787                    5398                7069   \n",
              "unique    7787      2  7787                    4049                6831   \n",
              "top         s1  Movie    3%  Raúl Campos, Jan Suter  David Attenborough   \n",
              "freq         1   5377     1                      18                  18   \n",
              "mean       NaN    NaN   NaN                     NaN                 NaN   \n",
              "std        NaN    NaN   NaN                     NaN                 NaN   \n",
              "min        NaN    NaN   NaN                     NaN                 NaN   \n",
              "25%        NaN    NaN   NaN                     NaN                 NaN   \n",
              "50%        NaN    NaN   NaN                     NaN                 NaN   \n",
              "75%        NaN    NaN   NaN                     NaN                 NaN   \n",
              "max        NaN    NaN   NaN                     NaN                 NaN   \n",
              "\n",
              "              country       date_added  release_year rating  duration  \\\n",
              "count            7280             7777   7787.000000   7780      7787   \n",
              "unique            681             1565           NaN     14       216   \n",
              "top     United States  January 1, 2020           NaN  TV-MA  1 Season   \n",
              "freq             2555              118           NaN   2863      1608   \n",
              "mean              NaN              NaN   2013.932580    NaN       NaN   \n",
              "std               NaN              NaN      8.757395    NaN       NaN   \n",
              "min               NaN              NaN   1925.000000    NaN       NaN   \n",
              "25%               NaN              NaN   2013.000000    NaN       NaN   \n",
              "50%               NaN              NaN   2017.000000    NaN       NaN   \n",
              "75%               NaN              NaN   2018.000000    NaN       NaN   \n",
              "max               NaN              NaN   2021.000000    NaN       NaN   \n",
              "\n",
              "            listed_in                                        description  \n",
              "count            7787                                               7787  \n",
              "unique            492                                               7769  \n",
              "top     Documentaries  Multiple women report their husbands as missin...  \n",
              "freq              334                                                  3  \n",
              "mean              NaN                                                NaN  \n",
              "std               NaN                                                NaN  \n",
              "min               NaN                                                NaN  \n",
              "25%               NaN                                                NaN  \n",
              "50%               NaN                                                NaN  \n",
              "75%               NaN                                                NaN  \n",
              "max               NaN                                                NaN  "
            ],
            "text/html": [
              "\n",
              "  <div id=\"df-2d5d3664-7227-4dd8-89bd-c718a898f3cc\" class=\"colab-df-container\">\n",
              "    <div>\n",
              "<style scoped>\n",
              "    .dataframe tbody tr th:only-of-type {\n",
              "        vertical-align: middle;\n",
              "    }\n",
              "\n",
              "    .dataframe tbody tr th {\n",
              "        vertical-align: top;\n",
              "    }\n",
              "\n",
              "    .dataframe thead th {\n",
              "        text-align: right;\n",
              "    }\n",
              "</style>\n",
              "<table border=\"1\" class=\"dataframe\">\n",
              "  <thead>\n",
              "    <tr style=\"text-align: right;\">\n",
              "      <th></th>\n",
              "      <th>show_id</th>\n",
              "      <th>type</th>\n",
              "      <th>title</th>\n",
              "      <th>director</th>\n",
              "      <th>cast</th>\n",
              "      <th>country</th>\n",
              "      <th>date_added</th>\n",
              "      <th>release_year</th>\n",
              "      <th>rating</th>\n",
              "      <th>duration</th>\n",
              "      <th>listed_in</th>\n",
              "      <th>description</th>\n",
              "    </tr>\n",
              "  </thead>\n",
              "  <tbody>\n",
              "    <tr>\n",
              "      <th>count</th>\n",
              "      <td>7787</td>\n",
              "      <td>7787</td>\n",
              "      <td>7787</td>\n",
              "      <td>5398</td>\n",
              "      <td>7069</td>\n",
              "      <td>7280</td>\n",
              "      <td>7777</td>\n",
              "      <td>7787.000000</td>\n",
              "      <td>7780</td>\n",
              "      <td>7787</td>\n",
              "      <td>7787</td>\n",
              "      <td>7787</td>\n",
              "    </tr>\n",
              "    <tr>\n",
              "      <th>unique</th>\n",
              "      <td>7787</td>\n",
              "      <td>2</td>\n",
              "      <td>7787</td>\n",
              "      <td>4049</td>\n",
              "      <td>6831</td>\n",
              "      <td>681</td>\n",
              "      <td>1565</td>\n",
              "      <td>NaN</td>\n",
              "      <td>14</td>\n",
              "      <td>216</td>\n",
              "      <td>492</td>\n",
              "      <td>7769</td>\n",
              "    </tr>\n",
              "    <tr>\n",
              "      <th>top</th>\n",
              "      <td>s1</td>\n",
              "      <td>Movie</td>\n",
              "      <td>3%</td>\n",
              "      <td>Raúl Campos, Jan Suter</td>\n",
              "      <td>David Attenborough</td>\n",
              "      <td>United States</td>\n",
              "      <td>January 1, 2020</td>\n",
              "      <td>NaN</td>\n",
              "      <td>TV-MA</td>\n",
              "      <td>1 Season</td>\n",
              "      <td>Documentaries</td>\n",
              "      <td>Multiple women report their husbands as missin...</td>\n",
              "    </tr>\n",
              "    <tr>\n",
              "      <th>freq</th>\n",
              "      <td>1</td>\n",
              "      <td>5377</td>\n",
              "      <td>1</td>\n",
              "      <td>18</td>\n",
              "      <td>18</td>\n",
              "      <td>2555</td>\n",
              "      <td>118</td>\n",
              "      <td>NaN</td>\n",
              "      <td>2863</td>\n",
              "      <td>1608</td>\n",
              "      <td>334</td>\n",
              "      <td>3</td>\n",
              "    </tr>\n",
              "    <tr>\n",
              "      <th>mean</th>\n",
              "      <td>NaN</td>\n",
              "      <td>NaN</td>\n",
              "      <td>NaN</td>\n",
              "      <td>NaN</td>\n",
              "      <td>NaN</td>\n",
              "      <td>NaN</td>\n",
              "      <td>NaN</td>\n",
              "      <td>2013.932580</td>\n",
              "      <td>NaN</td>\n",
              "      <td>NaN</td>\n",
              "      <td>NaN</td>\n",
              "      <td>NaN</td>\n",
              "    </tr>\n",
              "    <tr>\n",
              "      <th>std</th>\n",
              "      <td>NaN</td>\n",
              "      <td>NaN</td>\n",
              "      <td>NaN</td>\n",
              "      <td>NaN</td>\n",
              "      <td>NaN</td>\n",
              "      <td>NaN</td>\n",
              "      <td>NaN</td>\n",
              "      <td>8.757395</td>\n",
              "      <td>NaN</td>\n",
              "      <td>NaN</td>\n",
              "      <td>NaN</td>\n",
              "      <td>NaN</td>\n",
              "    </tr>\n",
              "    <tr>\n",
              "      <th>min</th>\n",
              "      <td>NaN</td>\n",
              "      <td>NaN</td>\n",
              "      <td>NaN</td>\n",
              "      <td>NaN</td>\n",
              "      <td>NaN</td>\n",
              "      <td>NaN</td>\n",
              "      <td>NaN</td>\n",
              "      <td>1925.000000</td>\n",
              "      <td>NaN</td>\n",
              "      <td>NaN</td>\n",
              "      <td>NaN</td>\n",
              "      <td>NaN</td>\n",
              "    </tr>\n",
              "    <tr>\n",
              "      <th>25%</th>\n",
              "      <td>NaN</td>\n",
              "      <td>NaN</td>\n",
              "      <td>NaN</td>\n",
              "      <td>NaN</td>\n",
              "      <td>NaN</td>\n",
              "      <td>NaN</td>\n",
              "      <td>NaN</td>\n",
              "      <td>2013.000000</td>\n",
              "      <td>NaN</td>\n",
              "      <td>NaN</td>\n",
              "      <td>NaN</td>\n",
              "      <td>NaN</td>\n",
              "    </tr>\n",
              "    <tr>\n",
              "      <th>50%</th>\n",
              "      <td>NaN</td>\n",
              "      <td>NaN</td>\n",
              "      <td>NaN</td>\n",
              "      <td>NaN</td>\n",
              "      <td>NaN</td>\n",
              "      <td>NaN</td>\n",
              "      <td>NaN</td>\n",
              "      <td>2017.000000</td>\n",
              "      <td>NaN</td>\n",
              "      <td>NaN</td>\n",
              "      <td>NaN</td>\n",
              "      <td>NaN</td>\n",
              "    </tr>\n",
              "    <tr>\n",
              "      <th>75%</th>\n",
              "      <td>NaN</td>\n",
              "      <td>NaN</td>\n",
              "      <td>NaN</td>\n",
              "      <td>NaN</td>\n",
              "      <td>NaN</td>\n",
              "      <td>NaN</td>\n",
              "      <td>NaN</td>\n",
              "      <td>2018.000000</td>\n",
              "      <td>NaN</td>\n",
              "      <td>NaN</td>\n",
              "      <td>NaN</td>\n",
              "      <td>NaN</td>\n",
              "    </tr>\n",
              "    <tr>\n",
              "      <th>max</th>\n",
              "      <td>NaN</td>\n",
              "      <td>NaN</td>\n",
              "      <td>NaN</td>\n",
              "      <td>NaN</td>\n",
              "      <td>NaN</td>\n",
              "      <td>NaN</td>\n",
              "      <td>NaN</td>\n",
              "      <td>2021.000000</td>\n",
              "      <td>NaN</td>\n",
              "      <td>NaN</td>\n",
              "      <td>NaN</td>\n",
              "      <td>NaN</td>\n",
              "    </tr>\n",
              "  </tbody>\n",
              "</table>\n",
              "</div>\n",
              "    <div class=\"colab-df-buttons\">\n",
              "\n",
              "  <div class=\"colab-df-container\">\n",
              "    <button class=\"colab-df-convert\" onclick=\"convertToInteractive('df-2d5d3664-7227-4dd8-89bd-c718a898f3cc')\"\n",
              "            title=\"Convert this dataframe to an interactive table.\"\n",
              "            style=\"display:none;\">\n",
              "\n",
              "  <svg xmlns=\"http://www.w3.org/2000/svg\" height=\"24px\" viewBox=\"0 -960 960 960\">\n",
              "    <path d=\"M120-120v-720h720v720H120Zm60-500h600v-160H180v160Zm220 220h160v-160H400v160Zm0 220h160v-160H400v160ZM180-400h160v-160H180v160Zm440 0h160v-160H620v160ZM180-180h160v-160H180v160Zm440 0h160v-160H620v160Z\"/>\n",
              "  </svg>\n",
              "    </button>\n",
              "\n",
              "  <style>\n",
              "    .colab-df-container {\n",
              "      display:flex;\n",
              "      gap: 12px;\n",
              "    }\n",
              "\n",
              "    .colab-df-convert {\n",
              "      background-color: #E8F0FE;\n",
              "      border: none;\n",
              "      border-radius: 50%;\n",
              "      cursor: pointer;\n",
              "      display: none;\n",
              "      fill: #1967D2;\n",
              "      height: 32px;\n",
              "      padding: 0 0 0 0;\n",
              "      width: 32px;\n",
              "    }\n",
              "\n",
              "    .colab-df-convert:hover {\n",
              "      background-color: #E2EBFA;\n",
              "      box-shadow: 0px 1px 2px rgba(60, 64, 67, 0.3), 0px 1px 3px 1px rgba(60, 64, 67, 0.15);\n",
              "      fill: #174EA6;\n",
              "    }\n",
              "\n",
              "    .colab-df-buttons div {\n",
              "      margin-bottom: 4px;\n",
              "    }\n",
              "\n",
              "    [theme=dark] .colab-df-convert {\n",
              "      background-color: #3B4455;\n",
              "      fill: #D2E3FC;\n",
              "    }\n",
              "\n",
              "    [theme=dark] .colab-df-convert:hover {\n",
              "      background-color: #434B5C;\n",
              "      box-shadow: 0px 1px 3px 1px rgba(0, 0, 0, 0.15);\n",
              "      filter: drop-shadow(0px 1px 2px rgba(0, 0, 0, 0.3));\n",
              "      fill: #FFFFFF;\n",
              "    }\n",
              "  </style>\n",
              "\n",
              "    <script>\n",
              "      const buttonEl =\n",
              "        document.querySelector('#df-2d5d3664-7227-4dd8-89bd-c718a898f3cc button.colab-df-convert');\n",
              "      buttonEl.style.display =\n",
              "        google.colab.kernel.accessAllowed ? 'block' : 'none';\n",
              "\n",
              "      async function convertToInteractive(key) {\n",
              "        const element = document.querySelector('#df-2d5d3664-7227-4dd8-89bd-c718a898f3cc');\n",
              "        const dataTable =\n",
              "          await google.colab.kernel.invokeFunction('convertToInteractive',\n",
              "                                                    [key], {});\n",
              "        if (!dataTable) return;\n",
              "\n",
              "        const docLinkHtml = 'Like what you see? Visit the ' +\n",
              "          '<a target=\"_blank\" href=https://colab.research.google.com/notebooks/data_table.ipynb>data table notebook</a>'\n",
              "          + ' to learn more about interactive tables.';\n",
              "        element.innerHTML = '';\n",
              "        dataTable['output_type'] = 'display_data';\n",
              "        await google.colab.output.renderOutput(dataTable, element);\n",
              "        const docLink = document.createElement('div');\n",
              "        docLink.innerHTML = docLinkHtml;\n",
              "        element.appendChild(docLink);\n",
              "      }\n",
              "    </script>\n",
              "  </div>\n",
              "\n",
              "\n",
              "<div id=\"df-f0bc862c-f930-4fdd-b998-25bbfcdb5f30\">\n",
              "  <button class=\"colab-df-quickchart\" onclick=\"quickchart('df-f0bc862c-f930-4fdd-b998-25bbfcdb5f30')\"\n",
              "            title=\"Suggest charts\"\n",
              "            style=\"display:none;\">\n",
              "\n",
              "<svg xmlns=\"http://www.w3.org/2000/svg\" height=\"24px\"viewBox=\"0 0 24 24\"\n",
              "     width=\"24px\">\n",
              "    <g>\n",
              "        <path d=\"M19 3H5c-1.1 0-2 .9-2 2v14c0 1.1.9 2 2 2h14c1.1 0 2-.9 2-2V5c0-1.1-.9-2-2-2zM9 17H7v-7h2v7zm4 0h-2V7h2v10zm4 0h-2v-4h2v4z\"/>\n",
              "    </g>\n",
              "</svg>\n",
              "  </button>\n",
              "\n",
              "<style>\n",
              "  .colab-df-quickchart {\n",
              "      --bg-color: #E8F0FE;\n",
              "      --fill-color: #1967D2;\n",
              "      --hover-bg-color: #E2EBFA;\n",
              "      --hover-fill-color: #174EA6;\n",
              "      --disabled-fill-color: #AAA;\n",
              "      --disabled-bg-color: #DDD;\n",
              "  }\n",
              "\n",
              "  [theme=dark] .colab-df-quickchart {\n",
              "      --bg-color: #3B4455;\n",
              "      --fill-color: #D2E3FC;\n",
              "      --hover-bg-color: #434B5C;\n",
              "      --hover-fill-color: #FFFFFF;\n",
              "      --disabled-bg-color: #3B4455;\n",
              "      --disabled-fill-color: #666;\n",
              "  }\n",
              "\n",
              "  .colab-df-quickchart {\n",
              "    background-color: var(--bg-color);\n",
              "    border: none;\n",
              "    border-radius: 50%;\n",
              "    cursor: pointer;\n",
              "    display: none;\n",
              "    fill: var(--fill-color);\n",
              "    height: 32px;\n",
              "    padding: 0;\n",
              "    width: 32px;\n",
              "  }\n",
              "\n",
              "  .colab-df-quickchart:hover {\n",
              "    background-color: var(--hover-bg-color);\n",
              "    box-shadow: 0 1px 2px rgba(60, 64, 67, 0.3), 0 1px 3px 1px rgba(60, 64, 67, 0.15);\n",
              "    fill: var(--button-hover-fill-color);\n",
              "  }\n",
              "\n",
              "  .colab-df-quickchart-complete:disabled,\n",
              "  .colab-df-quickchart-complete:disabled:hover {\n",
              "    background-color: var(--disabled-bg-color);\n",
              "    fill: var(--disabled-fill-color);\n",
              "    box-shadow: none;\n",
              "  }\n",
              "\n",
              "  .colab-df-spinner {\n",
              "    border: 2px solid var(--fill-color);\n",
              "    border-color: transparent;\n",
              "    border-bottom-color: var(--fill-color);\n",
              "    animation:\n",
              "      spin 1s steps(1) infinite;\n",
              "  }\n",
              "\n",
              "  @keyframes spin {\n",
              "    0% {\n",
              "      border-color: transparent;\n",
              "      border-bottom-color: var(--fill-color);\n",
              "      border-left-color: var(--fill-color);\n",
              "    }\n",
              "    20% {\n",
              "      border-color: transparent;\n",
              "      border-left-color: var(--fill-color);\n",
              "      border-top-color: var(--fill-color);\n",
              "    }\n",
              "    30% {\n",
              "      border-color: transparent;\n",
              "      border-left-color: var(--fill-color);\n",
              "      border-top-color: var(--fill-color);\n",
              "      border-right-color: var(--fill-color);\n",
              "    }\n",
              "    40% {\n",
              "      border-color: transparent;\n",
              "      border-right-color: var(--fill-color);\n",
              "      border-top-color: var(--fill-color);\n",
              "    }\n",
              "    60% {\n",
              "      border-color: transparent;\n",
              "      border-right-color: var(--fill-color);\n",
              "    }\n",
              "    80% {\n",
              "      border-color: transparent;\n",
              "      border-right-color: var(--fill-color);\n",
              "      border-bottom-color: var(--fill-color);\n",
              "    }\n",
              "    90% {\n",
              "      border-color: transparent;\n",
              "      border-bottom-color: var(--fill-color);\n",
              "    }\n",
              "  }\n",
              "</style>\n",
              "\n",
              "  <script>\n",
              "    async function quickchart(key) {\n",
              "      const quickchartButtonEl =\n",
              "        document.querySelector('#' + key + ' button');\n",
              "      quickchartButtonEl.disabled = true;  // To prevent multiple clicks.\n",
              "      quickchartButtonEl.classList.add('colab-df-spinner');\n",
              "      try {\n",
              "        const charts = await google.colab.kernel.invokeFunction(\n",
              "            'suggestCharts', [key], {});\n",
              "      } catch (error) {\n",
              "        console.error('Error during call to suggestCharts:', error);\n",
              "      }\n",
              "      quickchartButtonEl.classList.remove('colab-df-spinner');\n",
              "      quickchartButtonEl.classList.add('colab-df-quickchart-complete');\n",
              "    }\n",
              "    (() => {\n",
              "      let quickchartButtonEl =\n",
              "        document.querySelector('#df-f0bc862c-f930-4fdd-b998-25bbfcdb5f30 button');\n",
              "      quickchartButtonEl.style.display =\n",
              "        google.colab.kernel.accessAllowed ? 'block' : 'none';\n",
              "    })();\n",
              "  </script>\n",
              "</div>\n",
              "\n",
              "    </div>\n",
              "  </div>\n"
            ]
          },
          "metadata": {},
          "execution_count": 83
        }
      ]
    },
    {
      "cell_type": "markdown",
      "source": [
        "### Variables Description"
      ],
      "metadata": {
        "id": "PBTbrJXOngz2"
      }
    },
    {
      "cell_type": "markdown",
      "source": [
        "This big list with 7,787 items, and each item has 12 pieces of info. Let me break it down:\n",
        "\n",
        "1.   Show ID (Show_id): A special code for each thing in our list.\n",
        "\n",
        "2.   Type (type): Tells us if it's a movie or a TV show.\n",
        "\n",
        "3.   Title (title): The name of the movie or TV show.\n",
        "\n",
        "4.   Director (director): The person who directed the movie or show.\n",
        "\n",
        "5.   Cast (cast): The actors and actresses in the movie or show.\n",
        "\n",
        "6.   Country (country): The country where the movie or show comes from.\n",
        "\n",
        "7.   Date Added (date_added): When the movie or show was added to Netflix.\n",
        "\n",
        "8.   Release Year (release_year): The year the movie or show was first shown.\n",
        "\n",
        "9.   Rating (rating): How good people think the movie or show is.\n",
        "\n",
        "10.  Duration (duration): How long the movie or show lasts.\n",
        "\n",
        "11.  Listed In (listed_in): The category the movie or show is put in.\n",
        "\n",
        "12.  Description (description): A little summary or explanation of what the movie or show is about.\n",
        "\n",
        "So, in a nutshell, we've got a bunch of cool details about a bunch of awesome movies and TV shows."
      ],
      "metadata": {
        "id": "1a-IdmytJI4c"
      }
    },
    {
      "cell_type": "markdown",
      "source": [
        "### Check Unique Values for each variable."
      ],
      "metadata": {
        "id": "u3PMJOP6ngxN"
      }
    },
    {
      "cell_type": "code",
      "source": [
        "# Check Unique Values for each variable.\n",
        "df.nunique()"
      ],
      "metadata": {
        "id": "zms12Yq5n-jE",
        "colab": {
          "base_uri": "https://localhost:8080/"
        },
        "outputId": "0d9efd18-db40-460c-a35c-2af292b34057"
      },
      "execution_count": null,
      "outputs": [
        {
          "output_type": "execute_result",
          "data": {
            "text/plain": [
              "show_id         7787\n",
              "type               2\n",
              "title           7787\n",
              "director        4049\n",
              "cast            6831\n",
              "country          681\n",
              "date_added      1565\n",
              "release_year      73\n",
              "rating            14\n",
              "duration         216\n",
              "listed_in        492\n",
              "description     7769\n",
              "dtype: int64"
            ]
          },
          "metadata": {},
          "execution_count": 84
        }
      ]
    },
    {
      "cell_type": "markdown",
      "source": [
        "## 3. ***Data Wrangling***"
      ],
      "metadata": {
        "id": "dauF4eBmngu3"
      }
    },
    {
      "cell_type": "markdown",
      "source": [
        "### Data Wrangling Code"
      ],
      "metadata": {
        "id": "bKJF3rekwFvQ"
      }
    },
    {
      "cell_type": "code",
      "source": [
        "# Write your code to make your dataset analysis ready\n",
        "# Netflix Wrangling Class for data wrangling\n",
        "class NetflixWrangling:\n",
        "    # Init function\n",
        "    def __init__(self,df):\n",
        "      ''' init method '''\n",
        "      try:\n",
        "          self.df = df.copy()\n",
        "          self.df['duration_value'] = self.df['duration'].apply(self.set_duration_value)\n",
        "          self.df['duration_unit'] = self.df['duration'].apply(self.set_duration_unit)\n",
        "          self.cast_ = self.get_cast_or_listed_in('cast')\n",
        "          self.genres_ = self.get_cast_or_listed_in('listed_in')\n",
        "          self.directors_ = self.getTopValues('director')\n",
        "          self.countries_ = self.getTopValues('country')\n",
        "          self.release_years_ = self.getTopValues('release_year')\n",
        "          self.ratings_ = self.getTopValues('rating')\n",
        "          self.df['duration_value'] = self.df['duration_value'].apply(lambda x:int(x))\n",
        "\n",
        "      except:\n",
        "          print('Invalid input!')\n",
        "    # Function to get dataset\n",
        "    def get_df(self):\n",
        "      ''' Function returns dataframe '''\n",
        "      return self.df\n",
        "    # Function to get movies dataset\n",
        "    def getMovies(self):\n",
        "      ''' Function returns returns dataframe which contains data of movies '''\n",
        "      return self.df[self.df['type'] == 'Movie']\n",
        "    # Function to get TV Show's dataset\n",
        "    def getTvShows(self):\n",
        "      ''' Function returns dataframe which contains data of tv shows '''\n",
        "      return self.df[self.df['type'] == 'TV Show']\n",
        "    # Function to get top values\n",
        "    def getTopValues(self,col):\n",
        "      ''' Function returns top values for the given column '''\n",
        "      try:\n",
        "          return self.df[col].value_counts().sort_values(ascending=False)\n",
        "      except:\n",
        "          return 'You have entered invalid column!'\n",
        "    # Function to set duration value\n",
        "    def set_duration_value(self,string):\n",
        "      ''' Function for setting duration values '''\n",
        "      if string[-7:] == 'Seasons':\n",
        "        return string[:-8]\n",
        "      elif string[-6:] == 'Season':\n",
        "        return string[:-7]\n",
        "      else:\n",
        "        return string[:-4]\n",
        "\n",
        "    # Function to set duration unit\n",
        "    def set_duration_unit(self,duration):\n",
        "      ''' function for setting duration unit. '''\n",
        "      if (duration[-7:] == 'Seasons') | (duration[-6:] == 'Season'):\n",
        "        return 'season'\n",
        "      else:\n",
        "        return 'min'\n",
        "\n",
        "    # Function to get cast or genres\n",
        "    def get_cast_or_listed_in(self,col):\n",
        "        df = self.df.copy()\n",
        "        # internal function 1\n",
        "        def __get_list():\n",
        "            '''\n",
        "            takes dataset and column's name, returns list.\n",
        "            '''\n",
        "            list_1=[]\n",
        "            for i in df[df[col].isna()== False][col]:\n",
        "                list_1.append(i.split(', '))\n",
        "            return list_1\n",
        "          # internal function 2\n",
        "        def __get_list_vars(list_1):\n",
        "            list_2 = []\n",
        "            for i in list_1:\n",
        "              for j in i:\n",
        "                list_2.append(j)\n",
        "            return list_2\n",
        "\n",
        "          # internal function 3\n",
        "        def __get_dict_vars(list_2):\n",
        "            unique_var = set(list_2)\n",
        "            dict_of_vars = dict()\n",
        "            for i in unique_var:\n",
        "              dict_of_vars[i] = list_2.count(i)\n",
        "            return dict_of_vars\n",
        "        # Assigning values in list 1 and list 2 then returning the series\n",
        "        list_1 = __get_list()\n",
        "        list_2 = __get_list_vars(list_1)\n",
        "        return pd.Series(__get_dict_vars(list_2)).sort_values(ascending=False)\n",
        "\n",
        "    # Function for converting duration_value into int type\n",
        "    def convertInt(self,col):\n",
        "      ''' Function to convert other type into integer '''\n",
        "      return int(col)\n",
        "\n",
        "    # Get showsPerMonth\n",
        "    def getShowsPerMonth(self,typ='all'):\n",
        "      ''' Function which returns Shows per month '''\n",
        "      df = pd.DataFrame()\n",
        "      if typ == 'tv':\n",
        "          df = self.getTvShows()\n",
        "      elif typ == 'movie':\n",
        "          df = self.getMovies()\n",
        "      else:\n",
        "          df = self.df.copy()\n",
        "      df = df[df['date_added'].isna() == False]\n",
        "      df['added_month'] = df['date_added'].apply(lambda x:x.split()[0])\n",
        "      monthly_shows = df['added_month'].value_counts()\n",
        "      return monthly_shows\n",
        "\n",
        "    # Get Text Length\n",
        "    def getTextLength(self,text):\n",
        "      return len(text)\n",
        "    # Get Dataframe with length column\n",
        "    def getDfWithLength(self,col):\n",
        "      df = self.df.copy()\n",
        "      df['text_length'] = df[col].apply(self.getTextLength)\n",
        "      return df\n",
        "\n",
        "# Initializing the object\n",
        "netflixWrangling = NetflixWrangling(df)"
      ],
      "metadata": {
        "id": "wk-9a2fpoLcV"
      },
      "execution_count": null,
      "outputs": []
    },
    {
      "cell_type": "code",
      "source": [
        "df[\"type\"].value_counts()"
      ],
      "metadata": {
        "id": "Ja9wAM2_6IO5",
        "colab": {
          "base_uri": "https://localhost:8080/"
        },
        "outputId": "398f745b-9913-468d-95ca-9333af4332d9"
      },
      "execution_count": null,
      "outputs": [
        {
          "output_type": "execute_result",
          "data": {
            "text/plain": [
              "Movie      5377\n",
              "TV Show    2410\n",
              "Name: type, dtype: int64"
            ]
          },
          "metadata": {},
          "execution_count": 86
        }
      ]
    },
    {
      "cell_type": "code",
      "source": [
        "# top count of show from top ten country\n",
        "df[\"country\"].value_counts().head(10)"
      ],
      "metadata": {
        "id": "qbVSJ6J56ILa",
        "colab": {
          "base_uri": "https://localhost:8080/"
        },
        "outputId": "0acf44c7-5303-4572-a8b0-2b56e1c22c21"
      },
      "execution_count": null,
      "outputs": [
        {
          "output_type": "execute_result",
          "data": {
            "text/plain": [
              "United States     2555\n",
              "India              923\n",
              "United Kingdom     397\n",
              "Japan              226\n",
              "South Korea        183\n",
              "Canada             177\n",
              "Spain              134\n",
              "France             115\n",
              "Egypt              101\n",
              "Turkey             100\n",
              "Name: country, dtype: int64"
            ]
          },
          "metadata": {},
          "execution_count": 87
        }
      ]
    },
    {
      "cell_type": "code",
      "source": [
        "# Printing the shapes for each type of shows\n",
        "print('Data for Movies has shape :',netflixWrangling.getMovies().shape)\n",
        "print('')\n",
        "print('Data for TV shows has shape :',netflixWrangling.getTvShows().shape)\n",
        "print('')"
      ],
      "metadata": {
        "id": "ijq7aYK-6IIs",
        "colab": {
          "base_uri": "https://localhost:8080/"
        },
        "outputId": "b8f22ac7-8664-4f9b-bf99-40d59f4d9cdf"
      },
      "execution_count": null,
      "outputs": [
        {
          "output_type": "stream",
          "name": "stdout",
          "text": [
            "Data for Movies has shape : (5377, 14)\n",
            "\n",
            "Data for TV shows has shape : (2410, 14)\n",
            "\n"
          ]
        }
      ]
    },
    {
      "cell_type": "code",
      "source": [
        "# Total length for each type of durations\n",
        "netflixWrangling.get_df().groupby(['duration_unit'])['duration_value'].sum()"
      ],
      "metadata": {
        "id": "zDFxIxs96IF9",
        "colab": {
          "base_uri": "https://localhost:8080/"
        },
        "outputId": "94e95fed-32a0-49bb-e42d-8704847773d7"
      },
      "execution_count": null,
      "outputs": [
        {
          "output_type": "execute_result",
          "data": {
            "text/plain": [
              "duration_unit\n",
              "min       533979\n",
              "season      4280\n",
              "Name: duration_value, dtype: int64"
            ]
          },
          "metadata": {},
          "execution_count": 89
        }
      ]
    },
    {
      "cell_type": "code",
      "source": [
        "# Total number of Shows for each month\n",
        "print('Total number of Shows for each month')\n",
        "netflixWrangling.getShowsPerMonth()"
      ],
      "metadata": {
        "id": "eUG92xuX6IDN",
        "colab": {
          "base_uri": "https://localhost:8080/"
        },
        "outputId": "988ab151-2ca6-4d63-dd4b-439bdb6b0eb3"
      },
      "execution_count": null,
      "outputs": [
        {
          "output_type": "stream",
          "name": "stdout",
          "text": [
            "Total number of Shows for each month\n"
          ]
        },
        {
          "output_type": "execute_result",
          "data": {
            "text/plain": [
              "December     833\n",
              "October      785\n",
              "January      757\n",
              "November     738\n",
              "March        669\n",
              "September    619\n",
              "August       618\n",
              "April        601\n",
              "July         600\n",
              "May          543\n",
              "June         542\n",
              "February     472\n",
              "Name: added_month, dtype: int64"
            ]
          },
          "metadata": {},
          "execution_count": 90
        }
      ]
    },
    {
      "cell_type": "code",
      "source": [
        "# Total number of Movies for each month\n",
        "print('Total number of Movies for each month')\n",
        "netflixWrangling.getShowsPerMonth('movie')"
      ],
      "metadata": {
        "id": "lEKcDjy56IAU",
        "colab": {
          "base_uri": "https://localhost:8080/"
        },
        "outputId": "182549e4-de04-4dc4-c3b8-2c9411b5fc82"
      },
      "execution_count": null,
      "outputs": [
        {
          "output_type": "stream",
          "name": "stdout",
          "text": [
            "Total number of Movies for each month\n"
          ]
        },
        {
          "output_type": "execute_result",
          "data": {
            "text/plain": [
              "January      560\n",
              "December     554\n",
              "October      553\n",
              "November     511\n",
              "March        471\n",
              "April        420\n",
              "September    415\n",
              "August       414\n",
              "July         403\n",
              "June         377\n",
              "May          371\n",
              "February     328\n",
              "Name: added_month, dtype: int64"
            ]
          },
          "metadata": {},
          "execution_count": 91
        }
      ]
    },
    {
      "cell_type": "code",
      "source": [
        "# Total number of TV Shows for each month\n",
        "print('Total number of TV Shows for each month')\n",
        "netflixWrangling.getShowsPerMonth('tv')"
      ],
      "metadata": {
        "id": "d5hxTqOE6H9d",
        "colab": {
          "base_uri": "https://localhost:8080/"
        },
        "outputId": "590bc627-cc29-4c77-edf4-7294678455d5"
      },
      "execution_count": null,
      "outputs": [
        {
          "output_type": "stream",
          "name": "stdout",
          "text": [
            "Total number of TV Shows for each month\n"
          ]
        },
        {
          "output_type": "execute_result",
          "data": {
            "text/plain": [
              "December     279\n",
              "October      232\n",
              "November     227\n",
              "August       204\n",
              "September    204\n",
              "March        198\n",
              "July         197\n",
              "January      197\n",
              "April        181\n",
              "May          172\n",
              "June         165\n",
              "February     144\n",
              "Name: added_month, dtype: int64"
            ]
          },
          "metadata": {},
          "execution_count": 92
        }
      ]
    },
    {
      "cell_type": "code",
      "source": [
        "# Assigning top 5 actors and genres to a variable\n",
        "print('Top 5 actors with highest number of shows :')\n",
        "netflixWrangling.cast_.head()"
      ],
      "metadata": {
        "id": "wERTlUXE6H6v",
        "colab": {
          "base_uri": "https://localhost:8080/"
        },
        "outputId": "673229d1-e380-462b-d99b-6c282d14e2f5"
      },
      "execution_count": null,
      "outputs": [
        {
          "output_type": "stream",
          "name": "stdout",
          "text": [
            "Top 5 actors with highest number of shows :\n"
          ]
        },
        {
          "output_type": "execute_result",
          "data": {
            "text/plain": [
              "Anupam Kher         42\n",
              "Shah Rukh Khan      35\n",
              "Naseeruddin Shah    30\n",
              "Om Puri             30\n",
              "Takahiro Sakurai    29\n",
              "dtype: int64"
            ]
          },
          "metadata": {},
          "execution_count": 93
        }
      ]
    },
    {
      "cell_type": "code",
      "source": [
        "# Top 5 directors with highest number of shows\n",
        "print('Top 5 directors with highest number of shows :')\n",
        "netflixWrangling.directors_.head()"
      ],
      "metadata": {
        "id": "6uamv7eC6H3_",
        "colab": {
          "base_uri": "https://localhost:8080/"
        },
        "outputId": "53fab79c-ea26-4131-f3d8-357e5297cf59"
      },
      "execution_count": null,
      "outputs": [
        {
          "output_type": "stream",
          "name": "stdout",
          "text": [
            "Top 5 directors with highest number of shows :\n"
          ]
        },
        {
          "output_type": "execute_result",
          "data": {
            "text/plain": [
              "Raúl Campos, Jan Suter    18\n",
              "Marcus Raboy              16\n",
              "Jay Karas                 14\n",
              "Cathy Garcia-Molina       13\n",
              "Youssef Chahine           12\n",
              "Name: director, dtype: int64"
            ]
          },
          "metadata": {},
          "execution_count": 94
        }
      ]
    },
    {
      "cell_type": "code",
      "source": [
        "# Top 5 countries with highest number of shows\n",
        "print('Top 5 countries with highest number of shows :')\n",
        "netflixWrangling.countries_.head()"
      ],
      "metadata": {
        "id": "J0n4-Ffr6H1O",
        "colab": {
          "base_uri": "https://localhost:8080/"
        },
        "outputId": "494610f1-dc0f-4cfb-b358-ff39aa6a706c"
      },
      "execution_count": null,
      "outputs": [
        {
          "output_type": "stream",
          "name": "stdout",
          "text": [
            "Top 5 countries with highest number of shows :\n"
          ]
        },
        {
          "output_type": "execute_result",
          "data": {
            "text/plain": [
              "United States     2555\n",
              "India              923\n",
              "United Kingdom     397\n",
              "Japan              226\n",
              "South Korea        183\n",
              "Name: country, dtype: int64"
            ]
          },
          "metadata": {},
          "execution_count": 95
        }
      ]
    },
    {
      "cell_type": "code",
      "source": [
        "# Top 5 years with highest number of shows released\n",
        "print('Top 5 years with highest number of shows released:')\n",
        "netflixWrangling.release_years_.head()"
      ],
      "metadata": {
        "id": "EaxUQOi36Hyx",
        "colab": {
          "base_uri": "https://localhost:8080/"
        },
        "outputId": "f8c168a9-1ad1-49a1-a436-d876c5e19ba0"
      },
      "execution_count": null,
      "outputs": [
        {
          "output_type": "stream",
          "name": "stdout",
          "text": [
            "Top 5 years with highest number of shows released:\n"
          ]
        },
        {
          "output_type": "execute_result",
          "data": {
            "text/plain": [
              "2018    1121\n",
              "2017    1012\n",
              "2019     996\n",
              "2016     882\n",
              "2020     868\n",
              "Name: release_year, dtype: int64"
            ]
          },
          "metadata": {},
          "execution_count": 96
        }
      ]
    },
    {
      "cell_type": "code",
      "source": [
        "# Top ratings with highest number of shows\n",
        "print('Top ratings with highest number of shows :')\n",
        "netflixWrangling.ratings_"
      ],
      "metadata": {
        "id": "vlp2u8ou6Hv8",
        "colab": {
          "base_uri": "https://localhost:8080/"
        },
        "outputId": "0a3b3cae-fc3e-487d-b14e-6206c24762a5"
      },
      "execution_count": null,
      "outputs": [
        {
          "output_type": "stream",
          "name": "stdout",
          "text": [
            "Top ratings with highest number of shows :\n"
          ]
        },
        {
          "output_type": "execute_result",
          "data": {
            "text/plain": [
              "TV-MA       2863\n",
              "TV-14       1931\n",
              "TV-PG        806\n",
              "R            665\n",
              "PG-13        386\n",
              "TV-Y         280\n",
              "TV-Y7        271\n",
              "PG           247\n",
              "TV-G         194\n",
              "NR            84\n",
              "G             39\n",
              "TV-Y7-FV       6\n",
              "UR             5\n",
              "NC-17          3\n",
              "Name: rating, dtype: int64"
            ]
          },
          "metadata": {},
          "execution_count": 97
        }
      ]
    },
    {
      "cell_type": "code",
      "source": [
        "# Top 5 Genres with highest number of Movies/TV Shows\n",
        "print('Top 5 Genres with highest number of Movies/TV Shows')\n",
        "netflixWrangling.genres_.head()"
      ],
      "metadata": {
        "id": "e571OpFf6Hsy",
        "colab": {
          "base_uri": "https://localhost:8080/"
        },
        "outputId": "672d7d18-391f-4881-f349-70f5612d2d12"
      },
      "execution_count": null,
      "outputs": [
        {
          "output_type": "stream",
          "name": "stdout",
          "text": [
            "Top 5 Genres with highest number of Movies/TV Shows\n"
          ]
        },
        {
          "output_type": "execute_result",
          "data": {
            "text/plain": [
              "International Movies      2437\n",
              "Dramas                    2106\n",
              "Comedies                  1471\n",
              "International TV Shows    1199\n",
              "Documentaries              786\n",
              "dtype: int64"
            ]
          },
          "metadata": {},
          "execution_count": 98
        }
      ]
    },
    {
      "cell_type": "code",
      "source": [
        "# Top 10 directors with highest length of descriptions\n",
        "print('Top 10 Directors with highest length of descriptions')\n",
        "netflixWrangling.getDfWithLength('description').groupby('director')['text_length'].mean().sort_values(ascending=False).reset_index().head(10)"
      ],
      "metadata": {
        "id": "Y_jcEvHN6Hpp",
        "colab": {
          "base_uri": "https://localhost:8080/",
          "height": 380
        },
        "outputId": "2c8ad7ca-7222-4022-aeb6-37e723c2d05f"
      },
      "execution_count": null,
      "outputs": [
        {
          "output_type": "stream",
          "name": "stdout",
          "text": [
            "Top 10 Directors with highest length of descriptions\n"
          ]
        },
        {
          "output_type": "execute_result",
          "data": {
            "text/plain": [
              "          director  text_length\n",
              "0        Chia Tang        246.0\n",
              "1    Gene Quintano        244.0\n",
              "2       Chris Koch        243.0\n",
              "3       N. Chandra        241.0\n",
              "4       Daniel Lee        240.0\n",
              "5   Kevin Reynolds        239.0\n",
              "6  Jeffrey W. Byrd        231.0\n",
              "7  Marek Kanievska        230.0\n",
              "8    Shawn Arranha        221.0\n",
              "9    Esteban Sapir        220.0"
            ],
            "text/html": [
              "\n",
              "  <div id=\"df-68b7ce87-95fb-4658-92ce-d259007ce43a\" class=\"colab-df-container\">\n",
              "    <div>\n",
              "<style scoped>\n",
              "    .dataframe tbody tr th:only-of-type {\n",
              "        vertical-align: middle;\n",
              "    }\n",
              "\n",
              "    .dataframe tbody tr th {\n",
              "        vertical-align: top;\n",
              "    }\n",
              "\n",
              "    .dataframe thead th {\n",
              "        text-align: right;\n",
              "    }\n",
              "</style>\n",
              "<table border=\"1\" class=\"dataframe\">\n",
              "  <thead>\n",
              "    <tr style=\"text-align: right;\">\n",
              "      <th></th>\n",
              "      <th>director</th>\n",
              "      <th>text_length</th>\n",
              "    </tr>\n",
              "  </thead>\n",
              "  <tbody>\n",
              "    <tr>\n",
              "      <th>0</th>\n",
              "      <td>Chia Tang</td>\n",
              "      <td>246.0</td>\n",
              "    </tr>\n",
              "    <tr>\n",
              "      <th>1</th>\n",
              "      <td>Gene Quintano</td>\n",
              "      <td>244.0</td>\n",
              "    </tr>\n",
              "    <tr>\n",
              "      <th>2</th>\n",
              "      <td>Chris Koch</td>\n",
              "      <td>243.0</td>\n",
              "    </tr>\n",
              "    <tr>\n",
              "      <th>3</th>\n",
              "      <td>N. Chandra</td>\n",
              "      <td>241.0</td>\n",
              "    </tr>\n",
              "    <tr>\n",
              "      <th>4</th>\n",
              "      <td>Daniel Lee</td>\n",
              "      <td>240.0</td>\n",
              "    </tr>\n",
              "    <tr>\n",
              "      <th>5</th>\n",
              "      <td>Kevin Reynolds</td>\n",
              "      <td>239.0</td>\n",
              "    </tr>\n",
              "    <tr>\n",
              "      <th>6</th>\n",
              "      <td>Jeffrey W. Byrd</td>\n",
              "      <td>231.0</td>\n",
              "    </tr>\n",
              "    <tr>\n",
              "      <th>7</th>\n",
              "      <td>Marek Kanievska</td>\n",
              "      <td>230.0</td>\n",
              "    </tr>\n",
              "    <tr>\n",
              "      <th>8</th>\n",
              "      <td>Shawn Arranha</td>\n",
              "      <td>221.0</td>\n",
              "    </tr>\n",
              "    <tr>\n",
              "      <th>9</th>\n",
              "      <td>Esteban Sapir</td>\n",
              "      <td>220.0</td>\n",
              "    </tr>\n",
              "  </tbody>\n",
              "</table>\n",
              "</div>\n",
              "    <div class=\"colab-df-buttons\">\n",
              "\n",
              "  <div class=\"colab-df-container\">\n",
              "    <button class=\"colab-df-convert\" onclick=\"convertToInteractive('df-68b7ce87-95fb-4658-92ce-d259007ce43a')\"\n",
              "            title=\"Convert this dataframe to an interactive table.\"\n",
              "            style=\"display:none;\">\n",
              "\n",
              "  <svg xmlns=\"http://www.w3.org/2000/svg\" height=\"24px\" viewBox=\"0 -960 960 960\">\n",
              "    <path d=\"M120-120v-720h720v720H120Zm60-500h600v-160H180v160Zm220 220h160v-160H400v160Zm0 220h160v-160H400v160ZM180-400h160v-160H180v160Zm440 0h160v-160H620v160ZM180-180h160v-160H180v160Zm440 0h160v-160H620v160Z\"/>\n",
              "  </svg>\n",
              "    </button>\n",
              "\n",
              "  <style>\n",
              "    .colab-df-container {\n",
              "      display:flex;\n",
              "      gap: 12px;\n",
              "    }\n",
              "\n",
              "    .colab-df-convert {\n",
              "      background-color: #E8F0FE;\n",
              "      border: none;\n",
              "      border-radius: 50%;\n",
              "      cursor: pointer;\n",
              "      display: none;\n",
              "      fill: #1967D2;\n",
              "      height: 32px;\n",
              "      padding: 0 0 0 0;\n",
              "      width: 32px;\n",
              "    }\n",
              "\n",
              "    .colab-df-convert:hover {\n",
              "      background-color: #E2EBFA;\n",
              "      box-shadow: 0px 1px 2px rgba(60, 64, 67, 0.3), 0px 1px 3px 1px rgba(60, 64, 67, 0.15);\n",
              "      fill: #174EA6;\n",
              "    }\n",
              "\n",
              "    .colab-df-buttons div {\n",
              "      margin-bottom: 4px;\n",
              "    }\n",
              "\n",
              "    [theme=dark] .colab-df-convert {\n",
              "      background-color: #3B4455;\n",
              "      fill: #D2E3FC;\n",
              "    }\n",
              "\n",
              "    [theme=dark] .colab-df-convert:hover {\n",
              "      background-color: #434B5C;\n",
              "      box-shadow: 0px 1px 3px 1px rgba(0, 0, 0, 0.15);\n",
              "      filter: drop-shadow(0px 1px 2px rgba(0, 0, 0, 0.3));\n",
              "      fill: #FFFFFF;\n",
              "    }\n",
              "  </style>\n",
              "\n",
              "    <script>\n",
              "      const buttonEl =\n",
              "        document.querySelector('#df-68b7ce87-95fb-4658-92ce-d259007ce43a button.colab-df-convert');\n",
              "      buttonEl.style.display =\n",
              "        google.colab.kernel.accessAllowed ? 'block' : 'none';\n",
              "\n",
              "      async function convertToInteractive(key) {\n",
              "        const element = document.querySelector('#df-68b7ce87-95fb-4658-92ce-d259007ce43a');\n",
              "        const dataTable =\n",
              "          await google.colab.kernel.invokeFunction('convertToInteractive',\n",
              "                                                    [key], {});\n",
              "        if (!dataTable) return;\n",
              "\n",
              "        const docLinkHtml = 'Like what you see? Visit the ' +\n",
              "          '<a target=\"_blank\" href=https://colab.research.google.com/notebooks/data_table.ipynb>data table notebook</a>'\n",
              "          + ' to learn more about interactive tables.';\n",
              "        element.innerHTML = '';\n",
              "        dataTable['output_type'] = 'display_data';\n",
              "        await google.colab.output.renderOutput(dataTable, element);\n",
              "        const docLink = document.createElement('div');\n",
              "        docLink.innerHTML = docLinkHtml;\n",
              "        element.appendChild(docLink);\n",
              "      }\n",
              "    </script>\n",
              "  </div>\n",
              "\n",
              "\n",
              "<div id=\"df-348bde86-35db-4f8c-a442-d96ee5d84445\">\n",
              "  <button class=\"colab-df-quickchart\" onclick=\"quickchart('df-348bde86-35db-4f8c-a442-d96ee5d84445')\"\n",
              "            title=\"Suggest charts\"\n",
              "            style=\"display:none;\">\n",
              "\n",
              "<svg xmlns=\"http://www.w3.org/2000/svg\" height=\"24px\"viewBox=\"0 0 24 24\"\n",
              "     width=\"24px\">\n",
              "    <g>\n",
              "        <path d=\"M19 3H5c-1.1 0-2 .9-2 2v14c0 1.1.9 2 2 2h14c1.1 0 2-.9 2-2V5c0-1.1-.9-2-2-2zM9 17H7v-7h2v7zm4 0h-2V7h2v10zm4 0h-2v-4h2v4z\"/>\n",
              "    </g>\n",
              "</svg>\n",
              "  </button>\n",
              "\n",
              "<style>\n",
              "  .colab-df-quickchart {\n",
              "      --bg-color: #E8F0FE;\n",
              "      --fill-color: #1967D2;\n",
              "      --hover-bg-color: #E2EBFA;\n",
              "      --hover-fill-color: #174EA6;\n",
              "      --disabled-fill-color: #AAA;\n",
              "      --disabled-bg-color: #DDD;\n",
              "  }\n",
              "\n",
              "  [theme=dark] .colab-df-quickchart {\n",
              "      --bg-color: #3B4455;\n",
              "      --fill-color: #D2E3FC;\n",
              "      --hover-bg-color: #434B5C;\n",
              "      --hover-fill-color: #FFFFFF;\n",
              "      --disabled-bg-color: #3B4455;\n",
              "      --disabled-fill-color: #666;\n",
              "  }\n",
              "\n",
              "  .colab-df-quickchart {\n",
              "    background-color: var(--bg-color);\n",
              "    border: none;\n",
              "    border-radius: 50%;\n",
              "    cursor: pointer;\n",
              "    display: none;\n",
              "    fill: var(--fill-color);\n",
              "    height: 32px;\n",
              "    padding: 0;\n",
              "    width: 32px;\n",
              "  }\n",
              "\n",
              "  .colab-df-quickchart:hover {\n",
              "    background-color: var(--hover-bg-color);\n",
              "    box-shadow: 0 1px 2px rgba(60, 64, 67, 0.3), 0 1px 3px 1px rgba(60, 64, 67, 0.15);\n",
              "    fill: var(--button-hover-fill-color);\n",
              "  }\n",
              "\n",
              "  .colab-df-quickchart-complete:disabled,\n",
              "  .colab-df-quickchart-complete:disabled:hover {\n",
              "    background-color: var(--disabled-bg-color);\n",
              "    fill: var(--disabled-fill-color);\n",
              "    box-shadow: none;\n",
              "  }\n",
              "\n",
              "  .colab-df-spinner {\n",
              "    border: 2px solid var(--fill-color);\n",
              "    border-color: transparent;\n",
              "    border-bottom-color: var(--fill-color);\n",
              "    animation:\n",
              "      spin 1s steps(1) infinite;\n",
              "  }\n",
              "\n",
              "  @keyframes spin {\n",
              "    0% {\n",
              "      border-color: transparent;\n",
              "      border-bottom-color: var(--fill-color);\n",
              "      border-left-color: var(--fill-color);\n",
              "    }\n",
              "    20% {\n",
              "      border-color: transparent;\n",
              "      border-left-color: var(--fill-color);\n",
              "      border-top-color: var(--fill-color);\n",
              "    }\n",
              "    30% {\n",
              "      border-color: transparent;\n",
              "      border-left-color: var(--fill-color);\n",
              "      border-top-color: var(--fill-color);\n",
              "      border-right-color: var(--fill-color);\n",
              "    }\n",
              "    40% {\n",
              "      border-color: transparent;\n",
              "      border-right-color: var(--fill-color);\n",
              "      border-top-color: var(--fill-color);\n",
              "    }\n",
              "    60% {\n",
              "      border-color: transparent;\n",
              "      border-right-color: var(--fill-color);\n",
              "    }\n",
              "    80% {\n",
              "      border-color: transparent;\n",
              "      border-right-color: var(--fill-color);\n",
              "      border-bottom-color: var(--fill-color);\n",
              "    }\n",
              "    90% {\n",
              "      border-color: transparent;\n",
              "      border-bottom-color: var(--fill-color);\n",
              "    }\n",
              "  }\n",
              "</style>\n",
              "\n",
              "  <script>\n",
              "    async function quickchart(key) {\n",
              "      const quickchartButtonEl =\n",
              "        document.querySelector('#' + key + ' button');\n",
              "      quickchartButtonEl.disabled = true;  // To prevent multiple clicks.\n",
              "      quickchartButtonEl.classList.add('colab-df-spinner');\n",
              "      try {\n",
              "        const charts = await google.colab.kernel.invokeFunction(\n",
              "            'suggestCharts', [key], {});\n",
              "      } catch (error) {\n",
              "        console.error('Error during call to suggestCharts:', error);\n",
              "      }\n",
              "      quickchartButtonEl.classList.remove('colab-df-spinner');\n",
              "      quickchartButtonEl.classList.add('colab-df-quickchart-complete');\n",
              "    }\n",
              "    (() => {\n",
              "      let quickchartButtonEl =\n",
              "        document.querySelector('#df-348bde86-35db-4f8c-a442-d96ee5d84445 button');\n",
              "      quickchartButtonEl.style.display =\n",
              "        google.colab.kernel.accessAllowed ? 'block' : 'none';\n",
              "    })();\n",
              "  </script>\n",
              "</div>\n",
              "\n",
              "    </div>\n",
              "  </div>\n"
            ]
          },
          "metadata": {},
          "execution_count": 99
        }
      ]
    },
    {
      "cell_type": "markdown",
      "source": [
        "### What all manipulations have you done and insights you found?"
      ],
      "metadata": {
        "id": "MSa1f5Uengrz"
      }
    },
    {
      "cell_type": "markdown",
      "source": [
        "I started the analysis by organizing the dataset, sorting movie data into one category and TV show data into another. To make data extraction smoother, I created a specialized class for handling text information and implemented two functions specifically designed to capture duration values and units.\n",
        "\n",
        "Here are some key findings from digging into the dataset:\n",
        "\n",
        "*  Director Insights:\n",
        "\n",
        "Identified top directors with the most movies or TV shows, highlighting Raúl Campos and Jan Suter as the leaders with a combined total of 18 productions.\n",
        "\n",
        "*  Top Movie-Producing Countries:\n",
        "\n",
        "Explored and documented the top 5 countries contributing the most movies, with the United States leading, followed by India, the United Kingdom, Japan, and South Korea.\n",
        "*  Movies Produced in Specific Year:\n",
        "\n",
        "Found that the peak number of movies (1121) were produced in the year 2018.\n",
        "\n",
        "*  Top Movie Ratings:\n",
        "\n",
        "Investigated the distribution of ratings, pinpointing \"TV-MA\" as the category associated with the highest number of movies (2863).\n",
        "\n",
        "*  Top Actors by Movie Count:\n",
        "\n",
        "Disclosed the top 5 actors with the highest count of movies, featuring Anupam Kher, Shah Rukh Khan, Naseeruddin Shah, Om Puri, and Akshay Kumar.\n",
        "\n",
        "*  Top Genres:\n",
        "\n",
        "Explored genres and identified \"International Movies\" and \"Dramas\" as the leading categories, with 2437 and 2106 movies, respectively.\n",
        "\n",
        "*  TV Show Statistics:\n",
        "\n",
        "Provided aggregated counts for TV show seasons (4280) and total viewing minutes (533,979).\n",
        "\n",
        "*  Monthly Distribution of TV Shows/Movies:\n",
        "\n",
        "Presented a breakdown of TV shows and movies released each month, highlighting December with the highest count (833), followed by October and January.\n",
        "\n",
        "These insights collectively provide a comprehensive overview of the dataset, revealing patterns across directors, countries, years, ratings, actors, genres, and monthly releases. This analysis forms a solid foundation for a more in-depth understanding of the dataset's intricate characteristics."
      ],
      "metadata": {
        "id": "rSIoK4mfLsPI"
      }
    },
    {
      "cell_type": "markdown",
      "source": [
        "**Data Vizualization, Storytelling & Experimenting with charts : Understand the relationships between variables**"
      ],
      "metadata": {
        "id": "_tgzxFpEbR9t"
      }
    },
    {
      "cell_type": "markdown",
      "source": [
        "Feature Engineering & Data Pre-**processing** **bold text**"
      ],
      "metadata": {
        "id": "M1LJJnq1b1Fg"
      }
    },
    {
      "cell_type": "markdown",
      "source": [
        "# **Conclusion**"
      ],
      "metadata": {
        "id": "gCX9965dhzqZ"
      }
    },
    {
      "cell_type": "markdown",
      "source": [
        "### ***Hurrah! You have successfully completed your Machine Learning Capstone Project !!!***"
      ],
      "metadata": {
        "id": "gIfDvo9L0UH2"
      }
    }
  ]
}