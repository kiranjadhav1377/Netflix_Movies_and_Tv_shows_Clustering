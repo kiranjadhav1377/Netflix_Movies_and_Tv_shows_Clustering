{
  "nbformat": 4,
  "nbformat_minor": 0,
  "metadata": {
    "colab": {
      "provenance": [],
      "collapsed_sections": [
        "vncDsAP0Gaoa",
        "FJNUwmbgGyua",
        "yQaldy8SH6Dl",
        "mDgbUHAGgjLW",
        "O_i_v8NEhb9l",
        "r2jJGEOYphqO",
        "GMQiZwjn3iu7",
        "WVIkgGqN3qsr",
        "XkPnILGE3zoT",
        "Hlsf0x5436Go",
        "mT9DMSJo4nBL",
        "OeJFEK0N496M",
        "9ExmJH0g5HBk",
        "cJNqERVU536h",
        "T0VqWOYE6DLQ",
        "qBMux9mC6MCf",
        "TfvqoZmBfxKf",
        "gIfDvo9L0UH2"
      ],
      "cell_execution_strategy": "setup",
      "include_colab_link": true
    },
    "kernelspec": {
      "name": "python3",
      "display_name": "Python 3"
    },
    "language_info": {
      "name": "python"
    }
  },
  "cells": [
    {
      "cell_type": "markdown",
      "metadata": {
        "id": "view-in-github",
        "colab_type": "text"
      },
      "source": [
        "<a href=\"https://colab.research.google.com/github/kiranjadhav1377/Netflix_Movies_and_Tv_shows_Clustering/blob/main/RAW_Netflix_project_3.ipynb\" target=\"_parent\"><img src=\"https://colab.research.google.com/assets/colab-badge.svg\" alt=\"Open In Colab\"/></a>"
      ]
    },
    {
      "cell_type": "markdown",
      "source": [
        "# **Project Name**    -**Netflix Movies and Tv shows Clustering**\n",
        "\n"
      ],
      "metadata": {
        "id": "vncDsAP0Gaoa"
      }
    },
    {
      "cell_type": "markdown",
      "source": [
        "**Project Type -** Unsupervised\n",
        "\n",
        "**Contribution -** Individual\n",
        "\n",
        "**Team Member -** Kiran S. Jadhav\n",
        "\n",
        "![photo-1574375927938-d5a98e8ffe85.avif](data:image/avif;base64,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)"
      ],
      "metadata": {
        "id": "jb2hhHJmdAgT"
      }
    },
    {
      "cell_type": "markdown",
      "source": [
        "# **Project Summary -**"
      ],
      "metadata": {
        "id": "FJNUwmbgGyua"
      }
    },
    {
      "cell_type": "markdown",
      "source": [
        "This project is like a Netflix makeover! We're delving into Netflix's massive collection of movies and TV shows, which is like a treasure trove of entertainment. Our goal? To organize them into neat groups that just make Netflix more awesome for you and keep you coming back for more.\n",
        "\n",
        "We start with a bunch of informationlike 7,787 records worth each with details about who's in the show, where it's from, its type (comedy, action, etc.), the director, rating, and a short description. We make sure everything is complete and no details are missing.\n",
        "\n",
        "Now, here comes the techy part: we use something called TFIDF to turn all this info into computer-friendly numbers. It's like giving each show a special code. And to keep things simple, we use PCA to crunch down these numbers.\n",
        "\n",
        "Our next mission is to group similar shows together, creating these awesome categories. To figure out how many categories we need, we try different methods, like looking at graphs and scores. We have two cool ways of making these groups: one is called K-Means, and the other is like making a family tree of shows, called Agglomerative Hierarchical.\n",
        "\n",
        "After all that, we create a special chart showing how much one show is like another. It's like making a map of show similarities. This helps us build a super-smart system that suggests new things you might love based on what you've enjoyed before.\n",
        "\n",
        "In the end, this project is all about giving Netflix a glow-up. We're organizing its shows and movies into neat groups and suggesting awesome new things for you based on what you already enjoy. It's like making Netflix your personalized entertainment paradise."
      ],
      "metadata": {
        "id": "eKXI2KeEGXkn"
      }
    },
    {
      "cell_type": "markdown",
      "source": [
        "# **GitHub Link -**"
      ],
      "metadata": {
        "id": "w6K7xa23Elo4"
      }
    },
    {
      "cell_type": "markdown",
      "source": [
        "https://github.com/kiranjadhav1377/Netflix_Movies_and_Tv_shows_Clustering"
      ],
      "metadata": {
        "id": "gW8sKQh7i0JX"
      }
    },
    {
      "cell_type": "markdown",
      "source": [
        "# **Problem Statement**\n"
      ],
      "metadata": {
        "id": "yQaldy8SH6Dl"
      }
    },
    {
      "cell_type": "markdown",
      "source": [
        "This dataset consists of tv shows and movies available on Netflix as of 2019. The dataset is collected from Flixable which is a third-party Netflix search engine.\n",
        "\n",
        "In 2018, they released an interesting report which shows that the number of TV shows on Netflix has nearly tripled since 2010. The streaming service’s number of movies has decreased by more than 2,000 titles since 2010, while its number of TV shows has nearly tripled. It will be interesting to explore what all other insights can be obtained from the same dataset.\n",
        "\n",
        "Integrating this dataset with other external datasets such as IMDB ratings, rotten tomatoes can also provide many interesting findings.\n",
        "My Task is to make a Model that can cluster similar type of content together."
      ],
      "metadata": {
        "id": "DpeJGUA3kjGy"
      }
    },
    {
      "cell_type": "markdown",
      "source": [
        "# **General Guidelines** : -  "
      ],
      "metadata": {
        "id": "mDgbUHAGgjLW"
      }
    },
    {
      "cell_type": "markdown",
      "source": [
        "1.   Well-structured, formatted, and commented code is required.\n",
        "2.   Exception Handling, Production Grade Code & Deployment Ready Code will be a plus. Those students will be awarded some additional credits.\n",
        "     \n",
        "     The additional credits will have advantages over other students during Star Student selection.\n",
        "       \n",
        "             [ Note: - Deployment Ready Code is defined as, the whole .ipynb notebook should be executable in one go\n",
        "                       without a single error logged. ]\n",
        "\n",
        "3.   Each and every logic should have proper comments.\n",
        "4. You may add as many number of charts you want. Make Sure for each and every chart the following format should be answered.\n",
        "        \n",
        "\n",
        "```\n",
        "# Chart visualization code\n",
        "```\n",
        "            \n",
        "\n",
        "*   Why did you pick the specific chart?\n",
        "*   What is/are the insight(s) found from the chart?\n",
        "* Will the gained insights help creating a positive business impact?\n",
        "Are there any insights that lead to negative growth? Justify with specific reason.\n",
        "\n",
        "5. You have to create at least 15 logical & meaningful charts having important insights.\n",
        "\n",
        "\n",
        "[ Hints : - Do the Vizualization in  a structured way while following \"UBM\" Rule.\n",
        "\n",
        "U - Univariate Analysis,\n",
        "\n",
        "B - Bivariate Analysis (Numerical - Categorical, Numerical - Numerical, Categorical - Categorical)\n",
        "\n",
        "M - Multivariate Analysis\n",
        " ]\n",
        "\n",
        "\n",
        "\n",
        "\n",
        "\n",
        "6. You may add more ml algorithms for model creation. Make sure for each and every algorithm, the following format should be answered.\n",
        "\n",
        "\n",
        "*   Explain the ML Model used and it's performance using Evaluation metric Score Chart.\n",
        "\n",
        "\n",
        "*   Cross- Validation & Hyperparameter Tuning\n",
        "\n",
        "*   Have you seen any improvement? Note down the improvement with updates Evaluation metric Score Chart.\n",
        "\n",
        "*   Explain each evaluation metric's indication towards business and the business impact pf the ML model used.\n",
        "\n",
        "\n",
        "\n",
        "\n",
        "\n",
        "\n",
        "\n",
        "\n",
        "\n",
        "\n",
        "\n",
        "\n",
        "\n",
        "\n",
        "\n",
        "\n",
        "\n",
        "\n"
      ],
      "metadata": {
        "id": "ZrxVaUj-hHfC"
      }
    },
    {
      "cell_type": "markdown",
      "source": [
        "# ***Let's Begin !***"
      ],
      "metadata": {
        "id": "O_i_v8NEhb9l"
      }
    },
    {
      "cell_type": "markdown",
      "source": [
        "## ***1. Know Your Data***"
      ],
      "metadata": {
        "id": "HhfV-JJviCcP"
      }
    },
    {
      "cell_type": "markdown",
      "source": [
        "### Dataset First View"
      ],
      "metadata": {
        "id": "x71ZqKXriCWQ"
      }
    },
    {
      "cell_type": "markdown",
      "source": [
        "### Dataset Rows & Columns count"
      ],
      "metadata": {
        "id": "7hBIi_osiCS2"
      }
    },
    {
      "cell_type": "markdown",
      "source": [
        "### Dataset Information"
      ],
      "metadata": {
        "id": "JlHwYmJAmNHm"
      }
    },
    {
      "cell_type": "markdown",
      "source": [
        "#### Duplicate Values"
      ],
      "metadata": {
        "id": "35m5QtbWiB9F"
      }
    },
    {
      "cell_type": "markdown",
      "source": [
        "#### Missing Values/Null Values"
      ],
      "metadata": {
        "id": "PoPl-ycgm1ru"
      }
    },
    {
      "cell_type": "markdown",
      "source": [
        "### What did you know about your dataset?"
      ],
      "metadata": {
        "id": "H0kj-8xxnORC"
      }
    },
    {
      "cell_type": "markdown",
      "source": [
        "## ***2. Understanding Your Variables***"
      ],
      "metadata": {
        "id": "nA9Y7ga8ng1Z"
      }
    },
    {
      "cell_type": "markdown",
      "source": [
        "### Variables Description"
      ],
      "metadata": {
        "id": "PBTbrJXOngz2"
      }
    },
    {
      "cell_type": "markdown",
      "source": [
        "### Check Unique Values for each variable."
      ],
      "metadata": {
        "id": "u3PMJOP6ngxN"
      }
    },
    {
      "cell_type": "markdown",
      "source": [
        "## ***Data Wrangling***"
      ],
      "metadata": {
        "id": "dauF4eBmngu3"
      }
    },
    {
      "cell_type": "markdown",
      "source": [],
      "metadata": {
        "id": "CRK-8gYqcgF6"
      }
    },
    {
      "cell_type": "markdown",
      "source": [
        "### Data Wrangling Code"
      ],
      "metadata": {
        "id": "bKJF3rekwFvQ"
      }
    },
    {
      "cell_type": "markdown",
      "source": [
        "**Data Vizualization, Storytelling & Experimenting with charts : Understand the relationships between variables**"
      ],
      "metadata": {
        "id": "_tgzxFpEbR9t"
      }
    },
    {
      "cell_type": "markdown",
      "source": [
        "Feature Engineering & Data Pre-**processing** **bold text**"
      ],
      "metadata": {
        "id": "M1LJJnq1b1Fg"
      }
    },
    {
      "cell_type": "markdown",
      "source": [
        "# **Conclusion**"
      ],
      "metadata": {
        "id": "gCX9965dhzqZ"
      }
    },
    {
      "cell_type": "markdown",
      "source": [
        "### ***Hurrah! You have successfully completed your Machine Learning Capstone Project !!!***"
      ],
      "metadata": {
        "id": "gIfDvo9L0UH2"
      }
    }
  ]
}